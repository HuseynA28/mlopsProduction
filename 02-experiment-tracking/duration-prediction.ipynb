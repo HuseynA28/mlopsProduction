{
 "cells": [
  {
   "cell_type": "code",
   "execution_count": 2,
   "id": "869dd66d",
   "metadata": {},
   "outputs": [],
   "source": [
    "#pip install pyarrow\n"
   ]
  },
  {
   "cell_type": "code",
   "execution_count": 3,
   "id": "36a76057",
   "metadata": {},
   "outputs": [],
   "source": [
    "# Import necessary libraries\n",
    "import pandas as pd\n",
    "import pickle\n",
    "from sklearn.feature_extraction import DictVectorizer\n",
    "from sklearn.linear_model import LinearRegression\n",
    "from sklearn.tree import DecisionTreeRegressor\n",
    "from sklearn.metrics import mean_squared_error\n",
    "import torch\n",
    "import torch.nn as nn\n",
    "from torch.utils.data import DataLoader, TensorDataset\n",
    "import mlflow\n"
   ]
  },
  {
   "cell_type": "code",
   "execution_count": 4,
   "id": "3fa29c78",
   "metadata": {},
   "outputs": [
    {
     "data": {
      "text/plain": [
       "<Experiment: artifact_location='/workspaces/mlopsProduction/02-experiment-tracking/mlruns/1', creation_time=1716364782674, experiment_id='1', last_update_time=1716364782674, lifecycle_stage='active', name='nyc-taxi-experiment', tags={}>"
      ]
     },
     "execution_count": 4,
     "metadata": {},
     "output_type": "execute_result"
    }
   ],
   "source": [
    "mlflow.set_tracking_uri('sqlite:///mlflow.db')\n",
    "mlflow.set_experiment('nyc-taxi-experiment')"
   ]
  },
  {
   "cell_type": "code",
   "execution_count": 5,
   "id": "1ff9827c",
   "metadata": {},
   "outputs": [],
   "source": [
    "#experiment_id = mlflow.create_experiment(\"New Experiment Name\")\n",
    "#mlflow.set_experiment(experiment_id)"
   ]
  },
  {
   "cell_type": "code",
   "execution_count": null,
   "id": "e128b385",
   "metadata": {},
   "outputs": [],
   "source": []
  },
  {
   "cell_type": "code",
   "execution_count": 6,
   "id": "61e0b337",
   "metadata": {},
   "outputs": [],
   "source": [
    "# Function to read and preprocess data\n",
    "def read_dataframe(filename):\n",
    "    df = pd.read_parquet(filename)\n",
    "    df['duration'] = (df['tpep_dropoff_datetime'] - df['tpep_pickup_datetime']).dt.total_seconds() / 60\n",
    "    df = df[(df['duration'] >= 1) & (df['duration'] <= 60)]\n",
    "    df['PULocationID'] = df['PULocationID'].astype('category')\n",
    "    df['DOLocationID'] = df['DOLocationID'].astype('category')\n",
    "    return df"
   ]
  },
  {
   "cell_type": "code",
   "execution_count": 7,
   "id": "ed58838c",
   "metadata": {},
   "outputs": [],
   "source": [
    "# Load and prepare training and validation data\n",
    "df_train = read_dataframe('data/yellow_tripdata_2023-01.parquet')\n",
    "df_val = read_dataframe('data/yellow_tripdata_2023-02.parquet')\n",
    "target = 'duration'\n",
    "categorical_columns = ['PULocationID', 'DOLocationID']"
   ]
  },
  {
   "cell_type": "markdown",
   "id": "f2a4e58f",
   "metadata": {},
   "source": [
    "<div style=\"background-color: green; color: white; padding: 10px;\">\n",
    "\n",
    "The purpose of the talk is purely focused on MLOps. I have selected only a few columns in order to keep the model and training process simple.\n",
    "\n",
    "</div>\n",
    "\n"
   ]
  },
  {
   "cell_type": "code",
   "execution_count": 8,
   "id": "1e67e9d5",
   "metadata": {},
   "outputs": [
    {
     "data": {
      "text/plain": [
       "count    3.009173e+06\n",
       "mean     1.420486e+01\n",
       "std      9.939386e+00\n",
       "min      1.000000e+00\n",
       "25%      7.216667e+00\n",
       "50%      1.155000e+01\n",
       "75%      1.818333e+01\n",
       "max      6.000000e+01\n",
       "Name: duration, dtype: float64"
      ]
     },
     "execution_count": 8,
     "metadata": {},
     "output_type": "execute_result"
    }
   ],
   "source": [
    "df_train['duration'].describe()"
   ]
  },
  {
   "cell_type": "code",
   "execution_count": 9,
   "id": "329d9fdc",
   "metadata": {},
   "outputs": [],
   "source": [
    "# Vectorize categorical features\n",
    "dv = DictVectorizer(sparse=False)\n",
    "X_train = dv.fit_transform(df_train[categorical_columns].to_dict(orient='records'))\n",
    "X_val = dv.transform(df_val[categorical_columns].to_dict(orient='records'))\n",
    "y_train = df_train[target].values\n",
    "y_val = df_val[target].values"
   ]
  },
  {
   "cell_type": "code",
   "execution_count": 10,
   "id": "1dc46e8e",
   "metadata": {},
   "outputs": [
    {
     "name": "stdout",
     "output_type": "stream",
     "text": [
      "Dimensionality (number of columns): 2\n"
     ]
    }
   ],
   "source": [
    "print(\"Dimensionality (number of columns):\", X_val.shape[1])"
   ]
  },
  {
   "cell_type": "code",
   "execution_count": 11,
   "id": "18aeb179",
   "metadata": {},
   "outputs": [],
   "source": [
    "##LinearRegression"
   ]
  },
  {
   "cell_type": "code",
   "execution_count": 12,
   "id": "56a86b31",
   "metadata": {},
   "outputs": [
    {
     "name": "stdout",
     "output_type": "stream",
     "text": [
      "Linear Regression MSE: 9.963607595829973\n"
     ]
    },
    {
     "name": "stderr",
     "output_type": "stream",
     "text": [
      "/home/codespace/.python/current/lib/python3.10/site-packages/sklearn/metrics/_regression.py:492: FutureWarning: 'squared' is deprecated in version 1.4 and will be removed in 1.6. To calculate the root mean squared error, use the function'root_mean_squared_error'.\n",
      "  warnings.warn(\n"
     ]
    }
   ],
   "source": [
    "lr = LinearRegression()\n",
    "lr.fit(X_train, y_train)\n",
    "lr_rmse = mean_squared_error(y_val, lr.predict(X_val), squared=False)\n",
    "print(\"Linear Regression MSE:\", lr_rmse)"
   ]
  },
  {
   "cell_type": "code",
   "execution_count": 13,
   "id": "6c39a48e",
   "metadata": {},
   "outputs": [],
   "source": [
    " mlflow.end_run()"
   ]
  },
  {
   "cell_type": "code",
   "execution_count": 14,
   "id": "9292cdea",
   "metadata": {},
   "outputs": [
    {
     "name": "stdout",
     "output_type": "stream",
     "text": [
      "Linear Regression MSE: 9.963607595829973\n"
     ]
    },
    {
     "name": "stderr",
     "output_type": "stream",
     "text": [
      "/home/codespace/.python/current/lib/python3.10/site-packages/sklearn/metrics/_regression.py:492: FutureWarning: 'squared' is deprecated in version 1.4 and will be removed in 1.6. To calculate the root mean squared error, use the function'root_mean_squared_error'.\n",
      "  warnings.warn(\n"
     ]
    }
   ],
   "source": [
    "from sklearn import linear_model\n",
    "with mlflow.start_run():\n",
    "    mlflow.set_tag('developer','Huseyn')\n",
    "    mlflow.log_param('train-data-path', 'data/yellow_tripdata_2023-01.parquet')\n",
    "    mlflow.log_param('valid-data-path', 'data/yellow_tripdata_2023-02.parquet')\n",
    "    alpha=0.01\n",
    "    ls = linear_model.Lasso(alpha=alpha)\n",
    "    ls.fit(X_train, y_train)\n",
    "    ls_rmse = mean_squared_error(y_val, lr.predict(X_val), squared=False)\n",
    "    mlflow.log_metric('rmse',ls_rmse)\n",
    "    print(\"Linear Regression MSE:\", ls_rmse)\n"
   ]
  },
  {
   "cell_type": "code",
   "execution_count": 15,
   "id": "0bbb428c",
   "metadata": {},
   "outputs": [
    {
     "name": "stderr",
     "output_type": "stream",
     "text": [
      "/home/codespace/.python/current/lib/python3.10/site-packages/sklearn/metrics/_regression.py:492: FutureWarning: 'squared' is deprecated in version 1.4 and will be removed in 1.6. To calculate the root mean squared error, use the function'root_mean_squared_error'.\n",
      "  warnings.warn(\n"
     ]
    },
    {
     "name": "stdout",
     "output_type": "stream",
     "text": [
      "Linear Regression RMSE with alpha=0.01: 9.96360781849841\n"
     ]
    },
    {
     "name": "stderr",
     "output_type": "stream",
     "text": [
      "/home/codespace/.python/current/lib/python3.10/site-packages/sklearn/metrics/_regression.py:492: FutureWarning: 'squared' is deprecated in version 1.4 and will be removed in 1.6. To calculate the root mean squared error, use the function'root_mean_squared_error'.\n",
      "  warnings.warn(\n"
     ]
    },
    {
     "name": "stdout",
     "output_type": "stream",
     "text": [
      "Linear Regression RMSE with alpha=0.05: 9.963608750857988\n"
     ]
    },
    {
     "name": "stderr",
     "output_type": "stream",
     "text": [
      "/home/codespace/.python/current/lib/python3.10/site-packages/sklearn/metrics/_regression.py:492: FutureWarning: 'squared' is deprecated in version 1.4 and will be removed in 1.6. To calculate the root mean squared error, use the function'root_mean_squared_error'.\n",
      "  warnings.warn(\n"
     ]
    },
    {
     "name": "stdout",
     "output_type": "stream",
     "text": [
      "Linear Regression RMSE with alpha=0.1: 9.963610009929864\n"
     ]
    },
    {
     "name": "stderr",
     "output_type": "stream",
     "text": [
      "/home/codespace/.python/current/lib/python3.10/site-packages/sklearn/metrics/_regression.py:492: FutureWarning: 'squared' is deprecated in version 1.4 and will be removed in 1.6. To calculate the root mean squared error, use the function'root_mean_squared_error'.\n",
      "  warnings.warn(\n"
     ]
    },
    {
     "name": "stdout",
     "output_type": "stream",
     "text": [
      "Linear Regression RMSE with alpha=0.5: 9.963623827395615\n",
      "Linear Regression RMSE with alpha=1.0: 9.96365046141962\n"
     ]
    },
    {
     "name": "stderr",
     "output_type": "stream",
     "text": [
      "/home/codespace/.python/current/lib/python3.10/site-packages/sklearn/metrics/_regression.py:492: FutureWarning: 'squared' is deprecated in version 1.4 and will be removed in 1.6. To calculate the root mean squared error, use the function'root_mean_squared_error'.\n",
      "  warnings.warn(\n"
     ]
    }
   ],
   "source": [
    "\n",
    "alpha_values = [0.01, 0.05, 0.1, 0.5, 1.0]\n",
    "for alpha in alpha_values:\n",
    "    with mlflow.start_run():\n",
    "        mlflow.set_tag('developer', 'Huseyn')\n",
    "        mlflow.log_param('train-data-path', 'data/yellow_tripdata_2023-01.parquet')\n",
    "        mlflow.log_param('valid-data-path', 'data/yellow_tripdata_2023-02.parquet')\n",
    "        mlflow.log_param('alpha', alpha)\n",
    "        ls = linear_model.Lasso(alpha=alpha)\n",
    "        ls.fit(X_train, y_train)\n",
    "        ls_rmse = mean_squared_error(y_val, ls.predict(X_val), squared=False)\n",
    "        mlflow.log_metric('rmse', ls_rmse)\n",
    "        print(f\"Linear Regression RMSE with alpha={alpha}: {ls_rmse}\")\n"
   ]
  },
  {
   "cell_type": "code",
   "execution_count": 16,
   "id": "b2059623",
   "metadata": {},
   "outputs": [
    {
     "name": "stdout",
     "output_type": "stream",
     "text": [
      "Model saved successfully in models/lasso_model.pkl!\n"
     ]
    }
   ],
   "source": [
    "import os\n",
    "import joblib\n",
    "model_folder = 'models'\n",
    "model_path = os.path.join(model_folder, 'lasso_model.pkl')\n",
    "if not os.path.exists(model_folder):\n",
    "    os.makedirs(model_folder)\n",
    "joblib.dump(ls, model_path)\n",
    "print(f\"Model saved successfully in {model_path}!\")\n"
   ]
  },
  {
   "cell_type": "code",
   "execution_count": 17,
   "id": "2756a6c1",
   "metadata": {},
   "outputs": [],
   "source": [
    "mlflow.log_artifact(local_path=\"models/lasso_model.pkl\", artifact_path='model')"
   ]
  },
  {
   "cell_type": "code",
   "execution_count": null,
   "id": "a082d63b",
   "metadata": {},
   "outputs": [],
   "source": []
  },
  {
   "cell_type": "code",
   "execution_count": 18,
   "id": "90d5f7a4",
   "metadata": {},
   "outputs": [],
   "source": [
    "# Save the models and DictVectorizer\n",
    "with open('mlruns/models/Lasso_model.pkl', 'wb') as f_out:\n",
    "    pickle.dump((dv, lr), f_out)"
   ]
  },
  {
   "cell_type": "markdown",
   "id": "bdcd6588",
   "metadata": {},
   "source": [
    " #Xgboost model"
   ]
  },
  {
   "cell_type": "code",
   "execution_count": 19,
   "id": "7b994b04",
   "metadata": {},
   "outputs": [],
   "source": [
    "### xgboost model"
   ]
  },
  {
   "cell_type": "code",
   "execution_count": 20,
   "id": "54341d1c",
   "metadata": {},
   "outputs": [],
   "source": [
    "import xgboost as xgb\n",
    "from hyperopt import hp, fmin, tpe, STATUS_OK, Trials\n",
    "from sklearn.metrics import root_mean_squared_error\n"
   ]
  },
  {
   "cell_type": "code",
   "execution_count": 21,
   "id": "d3de602c",
   "metadata": {},
   "outputs": [],
   "source": [
    "import mlflow\n",
    "import xgboost as xgb\n",
    "from sklearn.metrics import mean_squared_error\n",
    "\n",
    "def objective(params):\n",
    "    with mlflow.start_run():\n",
    "        mlflow.set_tag(\"model\", \"xgboost\")\n",
    "        mlflow.log_params(params)\n",
    "        model = xgb.XGBRegressor(\n",
    "            n_estimators=int(params['n_estimators']),\n",
    "            max_depth=int(params['max_depth']),\n",
    "            learning_rate=params['learning_rate'],\n",
    "            subsample=params['subsample'],\n",
    "            gamma=params['gamma'],\n",
    "            colsample_bytree=params['colsample_bytree']\n",
    "        )\n",
    "        model.fit(X_train, y_train)\n",
    "        preds = model.predict(X_val)\n",
    "        rmse = mean_squared_error(y_val, preds, squared=False)\n",
    "        mlflow.log_metric(\"rmse\", rmse)\n",
    "    return {'loss': -rmse, 'status': STATUS_OK}\n"
   ]
  },
  {
   "cell_type": "code",
   "execution_count": 22,
   "id": "fd15befe",
   "metadata": {},
   "outputs": [],
   "source": [
    "space = {\n",
    "    'max_depth': hp.choice('max_depth', range(1, 3)),\n",
    "    'learning_rate': hp.uniform('learning_rate', 0.01, 0.02),\n",
    "    'n_estimators': hp.choice('n_estimators', range(100, 101)),\n",
    "    'subsample': hp.uniform('subsample', 0.7, 0.8),\n",
    "    'gamma': hp.uniform('gamma', 0.0, 0.1),\n",
    "    'colsample_bytree': hp.uniform('colsample_bytree', 0.3, 1.0),\n",
    "}\n"
   ]
  },
  {
   "cell_type": "code",
   "execution_count": 23,
   "id": "93ac83f7",
   "metadata": {},
   "outputs": [],
   "source": [
    "mlflow.end_run()"
   ]
  },
  {
   "cell_type": "code",
   "execution_count": 24,
   "id": "e600054c",
   "metadata": {},
   "outputs": [
    {
     "name": "stdout",
     "output_type": "stream",
     "text": [
      "  0%|          | 0/50 [00:00<?, ?trial/s, best loss=?]"
     ]
    },
    {
     "name": "stdout",
     "output_type": "stream",
     "text": [
      "  2%|▏         | 1/50 [00:09<07:21,  9.00s/trial, best loss: -9.722181648132677]"
     ]
    },
    {
     "name": "stderr",
     "output_type": "stream",
     "text": [
      "/home/codespace/.python/current/lib/python3.10/site-packages/sklearn/metrics/_regression.py:492: FutureWarning: 'squared' is deprecated in version 1.4 and will be removed in 1.6. To calculate the root mean squared error, use the function'root_mean_squared_error'.\n",
      "  warnings.warn(\n",
      "\n"
     ]
    },
    {
     "name": "stdout",
     "output_type": "stream",
     "text": [
      "  4%|▍         | 2/50 [00:18<07:15,  9.07s/trial, best loss: -9.722181648132677]"
     ]
    },
    {
     "name": "stderr",
     "output_type": "stream",
     "text": [
      "/home/codespace/.python/current/lib/python3.10/site-packages/sklearn/metrics/_regression.py:492: FutureWarning: 'squared' is deprecated in version 1.4 and will be removed in 1.6. To calculate the root mean squared error, use the function'root_mean_squared_error'.\n",
      "  warnings.warn(\n",
      "\n"
     ]
    },
    {
     "name": "stdout",
     "output_type": "stream",
     "text": [
      "  6%|▌         | 3/50 [00:23<05:57,  7.61s/trial, best loss: -9.800986957011128]"
     ]
    },
    {
     "name": "stderr",
     "output_type": "stream",
     "text": [
      "/home/codespace/.python/current/lib/python3.10/site-packages/sklearn/metrics/_regression.py:492: FutureWarning: 'squared' is deprecated in version 1.4 and will be removed in 1.6. To calculate the root mean squared error, use the function'root_mean_squared_error'.\n",
      "  warnings.warn(\n",
      "\n"
     ]
    },
    {
     "name": "stdout",
     "output_type": "stream",
     "text": [
      "  8%|▊         | 4/50 [00:30<05:22,  7.02s/trial, best loss: -9.8165301322897]  "
     ]
    },
    {
     "name": "stderr",
     "output_type": "stream",
     "text": [
      "/home/codespace/.python/current/lib/python3.10/site-packages/sklearn/metrics/_regression.py:492: FutureWarning: 'squared' is deprecated in version 1.4 and will be removed in 1.6. To calculate the root mean squared error, use the function'root_mean_squared_error'.\n",
      "  warnings.warn(\n",
      "\n"
     ]
    },
    {
     "name": "stdout",
     "output_type": "stream",
     "text": [
      " 10%|█         | 5/50 [00:38<05:30,  7.35s/trial, best loss: -9.8165301322897]"
     ]
    },
    {
     "name": "stderr",
     "output_type": "stream",
     "text": [
      "/home/codespace/.python/current/lib/python3.10/site-packages/sklearn/metrics/_regression.py:492: FutureWarning: 'squared' is deprecated in version 1.4 and will be removed in 1.6. To calculate the root mean squared error, use the function'root_mean_squared_error'.\n",
      "  warnings.warn(\n",
      "\n"
     ]
    },
    {
     "name": "stdout",
     "output_type": "stream",
     "text": [
      " 12%|█▏        | 6/50 [00:44<05:02,  6.88s/trial, best loss: -9.8165301322897]"
     ]
    },
    {
     "name": "stderr",
     "output_type": "stream",
     "text": [
      "/home/codespace/.python/current/lib/python3.10/site-packages/sklearn/metrics/_regression.py:492: FutureWarning: 'squared' is deprecated in version 1.4 and will be removed in 1.6. To calculate the root mean squared error, use the function'root_mean_squared_error'.\n",
      "  warnings.warn(\n",
      "\n"
     ]
    },
    {
     "name": "stdout",
     "output_type": "stream",
     "text": [
      " 14%|█▍        | 7/50 [00:49<04:41,  6.54s/trial, best loss: -9.8165301322897]"
     ]
    },
    {
     "name": "stderr",
     "output_type": "stream",
     "text": [
      "/home/codespace/.python/current/lib/python3.10/site-packages/sklearn/metrics/_regression.py:492: FutureWarning: 'squared' is deprecated in version 1.4 and will be removed in 1.6. To calculate the root mean squared error, use the function'root_mean_squared_error'.\n",
      "  warnings.warn(\n",
      "\n"
     ]
    },
    {
     "name": "stdout",
     "output_type": "stream",
     "text": [
      " 16%|█▌        | 8/50 [00:55<04:27,  6.36s/trial, best loss: -9.8165301322897]"
     ]
    },
    {
     "name": "stderr",
     "output_type": "stream",
     "text": [
      "/home/codespace/.python/current/lib/python3.10/site-packages/sklearn/metrics/_regression.py:492: FutureWarning: 'squared' is deprecated in version 1.4 and will be removed in 1.6. To calculate the root mean squared error, use the function'root_mean_squared_error'.\n",
      "  warnings.warn(\n",
      "\n"
     ]
    },
    {
     "name": "stdout",
     "output_type": "stream",
     "text": [
      " 18%|█▊        | 9/50 [01:01<04:12,  6.16s/trial, best loss: -9.8165301322897]"
     ]
    },
    {
     "name": "stderr",
     "output_type": "stream",
     "text": [
      "/home/codespace/.python/current/lib/python3.10/site-packages/sklearn/metrics/_regression.py:492: FutureWarning: 'squared' is deprecated in version 1.4 and will be removed in 1.6. To calculate the root mean squared error, use the function'root_mean_squared_error'.\n",
      "  warnings.warn(\n",
      "\n"
     ]
    },
    {
     "name": "stdout",
     "output_type": "stream",
     "text": [
      " 20%|██        | 10/50 [01:07<04:04,  6.11s/trial, best loss: -9.8165301322897]"
     ]
    },
    {
     "name": "stderr",
     "output_type": "stream",
     "text": [
      "/home/codespace/.python/current/lib/python3.10/site-packages/sklearn/metrics/_regression.py:492: FutureWarning: 'squared' is deprecated in version 1.4 and will be removed in 1.6. To calculate the root mean squared error, use the function'root_mean_squared_error'.\n",
      "  warnings.warn(\n",
      "\n"
     ]
    },
    {
     "name": "stdout",
     "output_type": "stream",
     "text": [
      " 22%|██▏       | 11/50 [01:13<03:54,  6.02s/trial, best loss: -9.8165301322897]"
     ]
    },
    {
     "name": "stderr",
     "output_type": "stream",
     "text": [
      "/home/codespace/.python/current/lib/python3.10/site-packages/sklearn/metrics/_regression.py:492: FutureWarning: 'squared' is deprecated in version 1.4 and will be removed in 1.6. To calculate the root mean squared error, use the function'root_mean_squared_error'.\n",
      "  warnings.warn(\n",
      "\n"
     ]
    },
    {
     "name": "stdout",
     "output_type": "stream",
     "text": [
      " 24%|██▍       | 12/50 [01:19<03:52,  6.11s/trial, best loss: -9.82966305861353]"
     ]
    },
    {
     "name": "stderr",
     "output_type": "stream",
     "text": [
      "/home/codespace/.python/current/lib/python3.10/site-packages/sklearn/metrics/_regression.py:492: FutureWarning: 'squared' is deprecated in version 1.4 and will be removed in 1.6. To calculate the root mean squared error, use the function'root_mean_squared_error'.\n",
      "  warnings.warn(\n",
      "\n"
     ]
    },
    {
     "name": "stdout",
     "output_type": "stream",
     "text": [
      " 26%|██▌       | 13/50 [01:25<03:42,  6.01s/trial, best loss: -9.82966305861353]"
     ]
    },
    {
     "name": "stderr",
     "output_type": "stream",
     "text": [
      "/home/codespace/.python/current/lib/python3.10/site-packages/sklearn/metrics/_regression.py:492: FutureWarning: 'squared' is deprecated in version 1.4 and will be removed in 1.6. To calculate the root mean squared error, use the function'root_mean_squared_error'.\n",
      "  warnings.warn(\n",
      "\n"
     ]
    },
    {
     "name": "stdout",
     "output_type": "stream",
     "text": [
      " 28%|██▊       | 14/50 [01:31<03:32,  5.91s/trial, best loss: -9.82966305861353]"
     ]
    },
    {
     "name": "stderr",
     "output_type": "stream",
     "text": [
      "/home/codespace/.python/current/lib/python3.10/site-packages/sklearn/metrics/_regression.py:492: FutureWarning: 'squared' is deprecated in version 1.4 and will be removed in 1.6. To calculate the root mean squared error, use the function'root_mean_squared_error'.\n",
      "  warnings.warn(\n",
      "\n"
     ]
    },
    {
     "name": "stdout",
     "output_type": "stream",
     "text": [
      " 30%|███       | 15/50 [01:36<03:26,  5.90s/trial, best loss: -9.82966305861353]"
     ]
    },
    {
     "name": "stderr",
     "output_type": "stream",
     "text": [
      "/home/codespace/.python/current/lib/python3.10/site-packages/sklearn/metrics/_regression.py:492: FutureWarning: 'squared' is deprecated in version 1.4 and will be removed in 1.6. To calculate the root mean squared error, use the function'root_mean_squared_error'.\n",
      "  warnings.warn(\n",
      "\n"
     ]
    },
    {
     "name": "stdout",
     "output_type": "stream",
     "text": [
      " 32%|███▏      | 16/50 [01:44<03:41,  6.51s/trial, best loss: -9.82966305861353]"
     ]
    },
    {
     "name": "stderr",
     "output_type": "stream",
     "text": [
      "/home/codespace/.python/current/lib/python3.10/site-packages/sklearn/metrics/_regression.py:492: FutureWarning: 'squared' is deprecated in version 1.4 and will be removed in 1.6. To calculate the root mean squared error, use the function'root_mean_squared_error'.\n",
      "  warnings.warn(\n",
      "\n"
     ]
    },
    {
     "name": "stdout",
     "output_type": "stream",
     "text": [
      " 34%|███▍      | 17/50 [01:50<03:26,  6.26s/trial, best loss: -9.82966305861353]"
     ]
    },
    {
     "name": "stderr",
     "output_type": "stream",
     "text": [
      "/home/codespace/.python/current/lib/python3.10/site-packages/sklearn/metrics/_regression.py:492: FutureWarning: 'squared' is deprecated in version 1.4 and will be removed in 1.6. To calculate the root mean squared error, use the function'root_mean_squared_error'.\n",
      "  warnings.warn(\n",
      "\n"
     ]
    },
    {
     "name": "stdout",
     "output_type": "stream",
     "text": [
      " 36%|███▌      | 18/50 [01:58<03:32,  6.63s/trial, best loss: -9.82966305861353]"
     ]
    },
    {
     "name": "stderr",
     "output_type": "stream",
     "text": [
      "/home/codespace/.python/current/lib/python3.10/site-packages/sklearn/metrics/_regression.py:492: FutureWarning: 'squared' is deprecated in version 1.4 and will be removed in 1.6. To calculate the root mean squared error, use the function'root_mean_squared_error'.\n",
      "  warnings.warn(\n",
      "\n"
     ]
    },
    {
     "name": "stdout",
     "output_type": "stream",
     "text": [
      " 38%|███▊      | 19/50 [02:05<03:33,  6.88s/trial, best loss: -9.82966305861353]"
     ]
    },
    {
     "name": "stderr",
     "output_type": "stream",
     "text": [
      "/home/codespace/.python/current/lib/python3.10/site-packages/sklearn/metrics/_regression.py:492: FutureWarning: 'squared' is deprecated in version 1.4 and will be removed in 1.6. To calculate the root mean squared error, use the function'root_mean_squared_error'.\n",
      "  warnings.warn(\n",
      "\n"
     ]
    },
    {
     "name": "stdout",
     "output_type": "stream",
     "text": [
      " 40%|████      | 20/50 [02:11<03:16,  6.54s/trial, best loss: -9.82966305861353]"
     ]
    },
    {
     "name": "stderr",
     "output_type": "stream",
     "text": [
      "/home/codespace/.python/current/lib/python3.10/site-packages/sklearn/metrics/_regression.py:492: FutureWarning: 'squared' is deprecated in version 1.4 and will be removed in 1.6. To calculate the root mean squared error, use the function'root_mean_squared_error'.\n",
      "  warnings.warn(\n",
      "\n"
     ]
    },
    {
     "name": "stdout",
     "output_type": "stream",
     "text": [
      " 42%|████▏     | 21/50 [02:17<03:07,  6.48s/trial, best loss: -9.83217969657972]"
     ]
    },
    {
     "name": "stderr",
     "output_type": "stream",
     "text": [
      "/home/codespace/.python/current/lib/python3.10/site-packages/sklearn/metrics/_regression.py:492: FutureWarning: 'squared' is deprecated in version 1.4 and will be removed in 1.6. To calculate the root mean squared error, use the function'root_mean_squared_error'.\n",
      "  warnings.warn(\n",
      "\n"
     ]
    },
    {
     "name": "stdout",
     "output_type": "stream",
     "text": [
      " 44%|████▍     | 22/50 [02:23<02:59,  6.41s/trial, best loss: -9.83217969657972]"
     ]
    },
    {
     "name": "stderr",
     "output_type": "stream",
     "text": [
      "/home/codespace/.python/current/lib/python3.10/site-packages/sklearn/metrics/_regression.py:492: FutureWarning: 'squared' is deprecated in version 1.4 and will be removed in 1.6. To calculate the root mean squared error, use the function'root_mean_squared_error'.\n",
      "  warnings.warn(\n",
      "\n"
     ]
    },
    {
     "name": "stdout",
     "output_type": "stream",
     "text": [
      " 46%|████▌     | 23/50 [02:30<02:51,  6.35s/trial, best loss: -9.83239958800605]"
     ]
    },
    {
     "name": "stderr",
     "output_type": "stream",
     "text": [
      "/home/codespace/.python/current/lib/python3.10/site-packages/sklearn/metrics/_regression.py:492: FutureWarning: 'squared' is deprecated in version 1.4 and will be removed in 1.6. To calculate the root mean squared error, use the function'root_mean_squared_error'.\n",
      "  warnings.warn(\n",
      "\n"
     ]
    },
    {
     "name": "stdout",
     "output_type": "stream",
     "text": [
      " 48%|████▊     | 24/50 [02:36<02:43,  6.28s/trial, best loss: -9.83239958800605]"
     ]
    },
    {
     "name": "stderr",
     "output_type": "stream",
     "text": [
      "/home/codespace/.python/current/lib/python3.10/site-packages/sklearn/metrics/_regression.py:492: FutureWarning: 'squared' is deprecated in version 1.4 and will be removed in 1.6. To calculate the root mean squared error, use the function'root_mean_squared_error'.\n",
      "  warnings.warn(\n",
      "\n"
     ]
    },
    {
     "name": "stdout",
     "output_type": "stream",
     "text": [
      " 50%|█████     | 25/50 [02:42<02:36,  6.24s/trial, best loss: -9.83239958800605]"
     ]
    },
    {
     "name": "stderr",
     "output_type": "stream",
     "text": [
      "/home/codespace/.python/current/lib/python3.10/site-packages/sklearn/metrics/_regression.py:492: FutureWarning: 'squared' is deprecated in version 1.4 and will be removed in 1.6. To calculate the root mean squared error, use the function'root_mean_squared_error'.\n",
      "  warnings.warn(\n",
      "\n"
     ]
    },
    {
     "name": "stdout",
     "output_type": "stream",
     "text": [
      " 50%|█████     | 25/50 [02:44<02:44,  6.57s/trial, best loss: -9.83239958800605]\n"
     ]
    },
    {
     "ename": "KeyboardInterrupt",
     "evalue": "",
     "output_type": "error",
     "traceback": [
      "\u001b[0;31m---------------------------------------------------------------------------\u001b[0m",
      "\u001b[0;31mKeyboardInterrupt\u001b[0m                         Traceback (most recent call last)",
      "Cell \u001b[0;32mIn[24], line 2\u001b[0m\n\u001b[1;32m      1\u001b[0m trials \u001b[38;5;241m=\u001b[39m Trials()\n\u001b[0;32m----> 2\u001b[0m best \u001b[38;5;241m=\u001b[39m \u001b[43mfmin\u001b[49m\u001b[43m(\u001b[49m\u001b[43mfn\u001b[49m\u001b[38;5;241;43m=\u001b[39;49m\u001b[43mobjective\u001b[49m\u001b[43m,\u001b[49m\n\u001b[1;32m      3\u001b[0m \u001b[43m            \u001b[49m\u001b[43mspace\u001b[49m\u001b[38;5;241;43m=\u001b[39;49m\u001b[43mspace\u001b[49m\u001b[43m,\u001b[49m\n\u001b[1;32m      4\u001b[0m \u001b[43m            \u001b[49m\u001b[43malgo\u001b[49m\u001b[38;5;241;43m=\u001b[39;49m\u001b[43mtpe\u001b[49m\u001b[38;5;241;43m.\u001b[39;49m\u001b[43msuggest\u001b[49m\u001b[43m,\u001b[49m\n\u001b[1;32m      5\u001b[0m \u001b[43m            \u001b[49m\u001b[43mmax_evals\u001b[49m\u001b[38;5;241;43m=\u001b[39;49m\u001b[38;5;241;43m50\u001b[39;49m\u001b[43m,\u001b[49m\n\u001b[1;32m      6\u001b[0m \u001b[43m            \u001b[49m\u001b[43mtrials\u001b[49m\u001b[38;5;241;43m=\u001b[39;49m\u001b[43mtrials\u001b[49m\u001b[43m)\u001b[49m\n\u001b[1;32m      7\u001b[0m \u001b[38;5;28mprint\u001b[39m(\u001b[38;5;124m\"\u001b[39m\u001b[38;5;124mBest hyperparameters:\u001b[39m\u001b[38;5;124m\"\u001b[39m, best)\n",
      "File \u001b[0;32m~/.python/current/lib/python3.10/site-packages/hyperopt/fmin.py:540\u001b[0m, in \u001b[0;36mfmin\u001b[0;34m(fn, space, algo, max_evals, timeout, loss_threshold, trials, rstate, allow_trials_fmin, pass_expr_memo_ctrl, catch_eval_exceptions, verbose, return_argmin, points_to_evaluate, max_queue_len, show_progressbar, early_stop_fn, trials_save_file)\u001b[0m\n\u001b[1;32m    537\u001b[0m     fn \u001b[38;5;241m=\u001b[39m __objective_fmin_wrapper(fn)\n\u001b[1;32m    539\u001b[0m \u001b[38;5;28;01mif\u001b[39;00m allow_trials_fmin \u001b[38;5;129;01mand\u001b[39;00m \u001b[38;5;28mhasattr\u001b[39m(trials, \u001b[38;5;124m\"\u001b[39m\u001b[38;5;124mfmin\u001b[39m\u001b[38;5;124m\"\u001b[39m):\n\u001b[0;32m--> 540\u001b[0m     \u001b[38;5;28;01mreturn\u001b[39;00m \u001b[43mtrials\u001b[49m\u001b[38;5;241;43m.\u001b[39;49m\u001b[43mfmin\u001b[49m\u001b[43m(\u001b[49m\n\u001b[1;32m    541\u001b[0m \u001b[43m        \u001b[49m\u001b[43mfn\u001b[49m\u001b[43m,\u001b[49m\n\u001b[1;32m    542\u001b[0m \u001b[43m        \u001b[49m\u001b[43mspace\u001b[49m\u001b[43m,\u001b[49m\n\u001b[1;32m    543\u001b[0m \u001b[43m        \u001b[49m\u001b[43malgo\u001b[49m\u001b[38;5;241;43m=\u001b[39;49m\u001b[43malgo\u001b[49m\u001b[43m,\u001b[49m\n\u001b[1;32m    544\u001b[0m \u001b[43m        \u001b[49m\u001b[43mmax_evals\u001b[49m\u001b[38;5;241;43m=\u001b[39;49m\u001b[43mmax_evals\u001b[49m\u001b[43m,\u001b[49m\n\u001b[1;32m    545\u001b[0m \u001b[43m        \u001b[49m\u001b[43mtimeout\u001b[49m\u001b[38;5;241;43m=\u001b[39;49m\u001b[43mtimeout\u001b[49m\u001b[43m,\u001b[49m\n\u001b[1;32m    546\u001b[0m \u001b[43m        \u001b[49m\u001b[43mloss_threshold\u001b[49m\u001b[38;5;241;43m=\u001b[39;49m\u001b[43mloss_threshold\u001b[49m\u001b[43m,\u001b[49m\n\u001b[1;32m    547\u001b[0m \u001b[43m        \u001b[49m\u001b[43mmax_queue_len\u001b[49m\u001b[38;5;241;43m=\u001b[39;49m\u001b[43mmax_queue_len\u001b[49m\u001b[43m,\u001b[49m\n\u001b[1;32m    548\u001b[0m \u001b[43m        \u001b[49m\u001b[43mrstate\u001b[49m\u001b[38;5;241;43m=\u001b[39;49m\u001b[43mrstate\u001b[49m\u001b[43m,\u001b[49m\n\u001b[1;32m    549\u001b[0m \u001b[43m        \u001b[49m\u001b[43mpass_expr_memo_ctrl\u001b[49m\u001b[38;5;241;43m=\u001b[39;49m\u001b[43mpass_expr_memo_ctrl\u001b[49m\u001b[43m,\u001b[49m\n\u001b[1;32m    550\u001b[0m \u001b[43m        \u001b[49m\u001b[43mverbose\u001b[49m\u001b[38;5;241;43m=\u001b[39;49m\u001b[43mverbose\u001b[49m\u001b[43m,\u001b[49m\n\u001b[1;32m    551\u001b[0m \u001b[43m        \u001b[49m\u001b[43mcatch_eval_exceptions\u001b[49m\u001b[38;5;241;43m=\u001b[39;49m\u001b[43mcatch_eval_exceptions\u001b[49m\u001b[43m,\u001b[49m\n\u001b[1;32m    552\u001b[0m \u001b[43m        \u001b[49m\u001b[43mreturn_argmin\u001b[49m\u001b[38;5;241;43m=\u001b[39;49m\u001b[43mreturn_argmin\u001b[49m\u001b[43m,\u001b[49m\n\u001b[1;32m    553\u001b[0m \u001b[43m        \u001b[49m\u001b[43mshow_progressbar\u001b[49m\u001b[38;5;241;43m=\u001b[39;49m\u001b[43mshow_progressbar\u001b[49m\u001b[43m,\u001b[49m\n\u001b[1;32m    554\u001b[0m \u001b[43m        \u001b[49m\u001b[43mearly_stop_fn\u001b[49m\u001b[38;5;241;43m=\u001b[39;49m\u001b[43mearly_stop_fn\u001b[49m\u001b[43m,\u001b[49m\n\u001b[1;32m    555\u001b[0m \u001b[43m        \u001b[49m\u001b[43mtrials_save_file\u001b[49m\u001b[38;5;241;43m=\u001b[39;49m\u001b[43mtrials_save_file\u001b[49m\u001b[43m,\u001b[49m\n\u001b[1;32m    556\u001b[0m \u001b[43m    \u001b[49m\u001b[43m)\u001b[49m\n\u001b[1;32m    558\u001b[0m \u001b[38;5;28;01mif\u001b[39;00m trials \u001b[38;5;129;01mis\u001b[39;00m \u001b[38;5;28;01mNone\u001b[39;00m:\n\u001b[1;32m    559\u001b[0m     \u001b[38;5;28;01mif\u001b[39;00m os\u001b[38;5;241m.\u001b[39mpath\u001b[38;5;241m.\u001b[39mexists(trials_save_file):\n",
      "File \u001b[0;32m~/.python/current/lib/python3.10/site-packages/hyperopt/base.py:671\u001b[0m, in \u001b[0;36mTrials.fmin\u001b[0;34m(self, fn, space, algo, max_evals, timeout, loss_threshold, max_queue_len, rstate, verbose, pass_expr_memo_ctrl, catch_eval_exceptions, return_argmin, show_progressbar, early_stop_fn, trials_save_file)\u001b[0m\n\u001b[1;32m    666\u001b[0m \u001b[38;5;66;03m# -- Stop-gap implementation!\u001b[39;00m\n\u001b[1;32m    667\u001b[0m \u001b[38;5;66;03m#    fmin should have been a Trials method in the first place\u001b[39;00m\n\u001b[1;32m    668\u001b[0m \u001b[38;5;66;03m#    but for now it's still sitting in another file.\u001b[39;00m\n\u001b[1;32m    669\u001b[0m \u001b[38;5;28;01mfrom\u001b[39;00m \u001b[38;5;21;01m.\u001b[39;00m\u001b[38;5;21;01mfmin\u001b[39;00m \u001b[38;5;28;01mimport\u001b[39;00m fmin\n\u001b[0;32m--> 671\u001b[0m \u001b[38;5;28;01mreturn\u001b[39;00m \u001b[43mfmin\u001b[49m\u001b[43m(\u001b[49m\n\u001b[1;32m    672\u001b[0m \u001b[43m    \u001b[49m\u001b[43mfn\u001b[49m\u001b[43m,\u001b[49m\n\u001b[1;32m    673\u001b[0m \u001b[43m    \u001b[49m\u001b[43mspace\u001b[49m\u001b[43m,\u001b[49m\n\u001b[1;32m    674\u001b[0m \u001b[43m    \u001b[49m\u001b[43malgo\u001b[49m\u001b[38;5;241;43m=\u001b[39;49m\u001b[43malgo\u001b[49m\u001b[43m,\u001b[49m\n\u001b[1;32m    675\u001b[0m \u001b[43m    \u001b[49m\u001b[43mmax_evals\u001b[49m\u001b[38;5;241;43m=\u001b[39;49m\u001b[43mmax_evals\u001b[49m\u001b[43m,\u001b[49m\n\u001b[1;32m    676\u001b[0m \u001b[43m    \u001b[49m\u001b[43mtimeout\u001b[49m\u001b[38;5;241;43m=\u001b[39;49m\u001b[43mtimeout\u001b[49m\u001b[43m,\u001b[49m\n\u001b[1;32m    677\u001b[0m \u001b[43m    \u001b[49m\u001b[43mloss_threshold\u001b[49m\u001b[38;5;241;43m=\u001b[39;49m\u001b[43mloss_threshold\u001b[49m\u001b[43m,\u001b[49m\n\u001b[1;32m    678\u001b[0m \u001b[43m    \u001b[49m\u001b[43mtrials\u001b[49m\u001b[38;5;241;43m=\u001b[39;49m\u001b[38;5;28;43mself\u001b[39;49m\u001b[43m,\u001b[49m\n\u001b[1;32m    679\u001b[0m \u001b[43m    \u001b[49m\u001b[43mrstate\u001b[49m\u001b[38;5;241;43m=\u001b[39;49m\u001b[43mrstate\u001b[49m\u001b[43m,\u001b[49m\n\u001b[1;32m    680\u001b[0m \u001b[43m    \u001b[49m\u001b[43mverbose\u001b[49m\u001b[38;5;241;43m=\u001b[39;49m\u001b[43mverbose\u001b[49m\u001b[43m,\u001b[49m\n\u001b[1;32m    681\u001b[0m \u001b[43m    \u001b[49m\u001b[43mmax_queue_len\u001b[49m\u001b[38;5;241;43m=\u001b[39;49m\u001b[43mmax_queue_len\u001b[49m\u001b[43m,\u001b[49m\n\u001b[1;32m    682\u001b[0m \u001b[43m    \u001b[49m\u001b[43mallow_trials_fmin\u001b[49m\u001b[38;5;241;43m=\u001b[39;49m\u001b[38;5;28;43;01mFalse\u001b[39;49;00m\u001b[43m,\u001b[49m\u001b[43m  \u001b[49m\u001b[38;5;66;43;03m# -- prevent recursion\u001b[39;49;00m\n\u001b[1;32m    683\u001b[0m \u001b[43m    \u001b[49m\u001b[43mpass_expr_memo_ctrl\u001b[49m\u001b[38;5;241;43m=\u001b[39;49m\u001b[43mpass_expr_memo_ctrl\u001b[49m\u001b[43m,\u001b[49m\n\u001b[1;32m    684\u001b[0m \u001b[43m    \u001b[49m\u001b[43mcatch_eval_exceptions\u001b[49m\u001b[38;5;241;43m=\u001b[39;49m\u001b[43mcatch_eval_exceptions\u001b[49m\u001b[43m,\u001b[49m\n\u001b[1;32m    685\u001b[0m \u001b[43m    \u001b[49m\u001b[43mreturn_argmin\u001b[49m\u001b[38;5;241;43m=\u001b[39;49m\u001b[43mreturn_argmin\u001b[49m\u001b[43m,\u001b[49m\n\u001b[1;32m    686\u001b[0m \u001b[43m    \u001b[49m\u001b[43mshow_progressbar\u001b[49m\u001b[38;5;241;43m=\u001b[39;49m\u001b[43mshow_progressbar\u001b[49m\u001b[43m,\u001b[49m\n\u001b[1;32m    687\u001b[0m \u001b[43m    \u001b[49m\u001b[43mearly_stop_fn\u001b[49m\u001b[38;5;241;43m=\u001b[39;49m\u001b[43mearly_stop_fn\u001b[49m\u001b[43m,\u001b[49m\n\u001b[1;32m    688\u001b[0m \u001b[43m    \u001b[49m\u001b[43mtrials_save_file\u001b[49m\u001b[38;5;241;43m=\u001b[39;49m\u001b[43mtrials_save_file\u001b[49m\u001b[43m,\u001b[49m\n\u001b[1;32m    689\u001b[0m \u001b[43m\u001b[49m\u001b[43m)\u001b[49m\n",
      "File \u001b[0;32m~/.python/current/lib/python3.10/site-packages/hyperopt/fmin.py:586\u001b[0m, in \u001b[0;36mfmin\u001b[0;34m(fn, space, algo, max_evals, timeout, loss_threshold, trials, rstate, allow_trials_fmin, pass_expr_memo_ctrl, catch_eval_exceptions, verbose, return_argmin, points_to_evaluate, max_queue_len, show_progressbar, early_stop_fn, trials_save_file)\u001b[0m\n\u001b[1;32m    583\u001b[0m rval\u001b[38;5;241m.\u001b[39mcatch_eval_exceptions \u001b[38;5;241m=\u001b[39m catch_eval_exceptions\n\u001b[1;32m    585\u001b[0m \u001b[38;5;66;03m# next line is where the fmin is actually executed\u001b[39;00m\n\u001b[0;32m--> 586\u001b[0m \u001b[43mrval\u001b[49m\u001b[38;5;241;43m.\u001b[39;49m\u001b[43mexhaust\u001b[49m\u001b[43m(\u001b[49m\u001b[43m)\u001b[49m\n\u001b[1;32m    588\u001b[0m \u001b[38;5;28;01mif\u001b[39;00m return_argmin:\n\u001b[1;32m    589\u001b[0m     \u001b[38;5;28;01mif\u001b[39;00m \u001b[38;5;28mlen\u001b[39m(trials\u001b[38;5;241m.\u001b[39mtrials) \u001b[38;5;241m==\u001b[39m \u001b[38;5;241m0\u001b[39m:\n",
      "File \u001b[0;32m~/.python/current/lib/python3.10/site-packages/hyperopt/fmin.py:364\u001b[0m, in \u001b[0;36mFMinIter.exhaust\u001b[0;34m(self)\u001b[0m\n\u001b[1;32m    362\u001b[0m \u001b[38;5;28;01mdef\u001b[39;00m \u001b[38;5;21mexhaust\u001b[39m(\u001b[38;5;28mself\u001b[39m):\n\u001b[1;32m    363\u001b[0m     n_done \u001b[38;5;241m=\u001b[39m \u001b[38;5;28mlen\u001b[39m(\u001b[38;5;28mself\u001b[39m\u001b[38;5;241m.\u001b[39mtrials)\n\u001b[0;32m--> 364\u001b[0m     \u001b[38;5;28;43mself\u001b[39;49m\u001b[38;5;241;43m.\u001b[39;49m\u001b[43mrun\u001b[49m\u001b[43m(\u001b[49m\u001b[38;5;28;43mself\u001b[39;49m\u001b[38;5;241;43m.\u001b[39;49m\u001b[43mmax_evals\u001b[49m\u001b[43m \u001b[49m\u001b[38;5;241;43m-\u001b[39;49m\u001b[43m \u001b[49m\u001b[43mn_done\u001b[49m\u001b[43m,\u001b[49m\u001b[43m \u001b[49m\u001b[43mblock_until_done\u001b[49m\u001b[38;5;241;43m=\u001b[39;49m\u001b[38;5;28;43mself\u001b[39;49m\u001b[38;5;241;43m.\u001b[39;49m\u001b[43masynchronous\u001b[49m\u001b[43m)\u001b[49m\n\u001b[1;32m    365\u001b[0m     \u001b[38;5;28mself\u001b[39m\u001b[38;5;241m.\u001b[39mtrials\u001b[38;5;241m.\u001b[39mrefresh()\n\u001b[1;32m    366\u001b[0m     \u001b[38;5;28;01mreturn\u001b[39;00m \u001b[38;5;28mself\u001b[39m\n",
      "File \u001b[0;32m~/.python/current/lib/python3.10/site-packages/hyperopt/fmin.py:300\u001b[0m, in \u001b[0;36mFMinIter.run\u001b[0;34m(self, N, block_until_done)\u001b[0m\n\u001b[1;32m    297\u001b[0m     time\u001b[38;5;241m.\u001b[39msleep(\u001b[38;5;28mself\u001b[39m\u001b[38;5;241m.\u001b[39mpoll_interval_secs)\n\u001b[1;32m    298\u001b[0m \u001b[38;5;28;01melse\u001b[39;00m:\n\u001b[1;32m    299\u001b[0m     \u001b[38;5;66;03m# -- loop over trials and do the jobs directly\u001b[39;00m\n\u001b[0;32m--> 300\u001b[0m     \u001b[38;5;28;43mself\u001b[39;49m\u001b[38;5;241;43m.\u001b[39;49m\u001b[43mserial_evaluate\u001b[49m\u001b[43m(\u001b[49m\u001b[43m)\u001b[49m\n\u001b[1;32m    302\u001b[0m \u001b[38;5;28mself\u001b[39m\u001b[38;5;241m.\u001b[39mtrials\u001b[38;5;241m.\u001b[39mrefresh()\n\u001b[1;32m    303\u001b[0m \u001b[38;5;28;01mif\u001b[39;00m \u001b[38;5;28mself\u001b[39m\u001b[38;5;241m.\u001b[39mtrials_save_file \u001b[38;5;241m!=\u001b[39m \u001b[38;5;124m\"\u001b[39m\u001b[38;5;124m\"\u001b[39m:\n",
      "File \u001b[0;32m~/.python/current/lib/python3.10/site-packages/hyperopt/fmin.py:178\u001b[0m, in \u001b[0;36mFMinIter.serial_evaluate\u001b[0;34m(self, N)\u001b[0m\n\u001b[1;32m    176\u001b[0m ctrl \u001b[38;5;241m=\u001b[39m base\u001b[38;5;241m.\u001b[39mCtrl(\u001b[38;5;28mself\u001b[39m\u001b[38;5;241m.\u001b[39mtrials, current_trial\u001b[38;5;241m=\u001b[39mtrial)\n\u001b[1;32m    177\u001b[0m \u001b[38;5;28;01mtry\u001b[39;00m:\n\u001b[0;32m--> 178\u001b[0m     result \u001b[38;5;241m=\u001b[39m \u001b[38;5;28;43mself\u001b[39;49m\u001b[38;5;241;43m.\u001b[39;49m\u001b[43mdomain\u001b[49m\u001b[38;5;241;43m.\u001b[39;49m\u001b[43mevaluate\u001b[49m\u001b[43m(\u001b[49m\u001b[43mspec\u001b[49m\u001b[43m,\u001b[49m\u001b[43m \u001b[49m\u001b[43mctrl\u001b[49m\u001b[43m)\u001b[49m\n\u001b[1;32m    179\u001b[0m \u001b[38;5;28;01mexcept\u001b[39;00m \u001b[38;5;167;01mException\u001b[39;00m \u001b[38;5;28;01mas\u001b[39;00m e:\n\u001b[1;32m    180\u001b[0m     logger\u001b[38;5;241m.\u001b[39merror(\u001b[38;5;124m\"\u001b[39m\u001b[38;5;124mjob exception: \u001b[39m\u001b[38;5;132;01m%s\u001b[39;00m\u001b[38;5;124m\"\u001b[39m \u001b[38;5;241m%\u001b[39m \u001b[38;5;28mstr\u001b[39m(e))\n",
      "File \u001b[0;32m~/.python/current/lib/python3.10/site-packages/hyperopt/base.py:892\u001b[0m, in \u001b[0;36mDomain.evaluate\u001b[0;34m(self, config, ctrl, attach_attachments)\u001b[0m\n\u001b[1;32m    883\u001b[0m \u001b[38;5;28;01melse\u001b[39;00m:\n\u001b[1;32m    884\u001b[0m     \u001b[38;5;66;03m# -- the \"work\" of evaluating `config` can be written\u001b[39;00m\n\u001b[1;32m    885\u001b[0m     \u001b[38;5;66;03m#    either into the pyll part (self.expr)\u001b[39;00m\n\u001b[1;32m    886\u001b[0m     \u001b[38;5;66;03m#    or the normal Python part (self.fn)\u001b[39;00m\n\u001b[1;32m    887\u001b[0m     pyll_rval \u001b[38;5;241m=\u001b[39m pyll\u001b[38;5;241m.\u001b[39mrec_eval(\n\u001b[1;32m    888\u001b[0m         \u001b[38;5;28mself\u001b[39m\u001b[38;5;241m.\u001b[39mexpr,\n\u001b[1;32m    889\u001b[0m         memo\u001b[38;5;241m=\u001b[39mmemo,\n\u001b[1;32m    890\u001b[0m         print_node_on_error\u001b[38;5;241m=\u001b[39m\u001b[38;5;28mself\u001b[39m\u001b[38;5;241m.\u001b[39mrec_eval_print_node_on_error,\n\u001b[1;32m    891\u001b[0m     )\n\u001b[0;32m--> 892\u001b[0m     rval \u001b[38;5;241m=\u001b[39m \u001b[38;5;28;43mself\u001b[39;49m\u001b[38;5;241;43m.\u001b[39;49m\u001b[43mfn\u001b[49m\u001b[43m(\u001b[49m\u001b[43mpyll_rval\u001b[49m\u001b[43m)\u001b[49m\n\u001b[1;32m    894\u001b[0m \u001b[38;5;28;01mif\u001b[39;00m \u001b[38;5;28misinstance\u001b[39m(rval, (\u001b[38;5;28mfloat\u001b[39m, \u001b[38;5;28mint\u001b[39m, np\u001b[38;5;241m.\u001b[39mnumber)):\n\u001b[1;32m    895\u001b[0m     dict_rval \u001b[38;5;241m=\u001b[39m {\u001b[38;5;124m\"\u001b[39m\u001b[38;5;124mloss\u001b[39m\u001b[38;5;124m\"\u001b[39m: \u001b[38;5;28mfloat\u001b[39m(rval), \u001b[38;5;124m\"\u001b[39m\u001b[38;5;124mstatus\u001b[39m\u001b[38;5;124m\"\u001b[39m: STATUS_OK}\n",
      "Cell \u001b[0;32mIn[21], line 17\u001b[0m, in \u001b[0;36mobjective\u001b[0;34m(params)\u001b[0m\n\u001b[1;32m      8\u001b[0m mlflow\u001b[38;5;241m.\u001b[39mlog_params(params)\n\u001b[1;32m      9\u001b[0m model \u001b[38;5;241m=\u001b[39m xgb\u001b[38;5;241m.\u001b[39mXGBRegressor(\n\u001b[1;32m     10\u001b[0m     n_estimators\u001b[38;5;241m=\u001b[39m\u001b[38;5;28mint\u001b[39m(params[\u001b[38;5;124m'\u001b[39m\u001b[38;5;124mn_estimators\u001b[39m\u001b[38;5;124m'\u001b[39m]),\n\u001b[1;32m     11\u001b[0m     max_depth\u001b[38;5;241m=\u001b[39m\u001b[38;5;28mint\u001b[39m(params[\u001b[38;5;124m'\u001b[39m\u001b[38;5;124mmax_depth\u001b[39m\u001b[38;5;124m'\u001b[39m]),\n\u001b[0;32m   (...)\u001b[0m\n\u001b[1;32m     15\u001b[0m     colsample_bytree\u001b[38;5;241m=\u001b[39mparams[\u001b[38;5;124m'\u001b[39m\u001b[38;5;124mcolsample_bytree\u001b[39m\u001b[38;5;124m'\u001b[39m]\n\u001b[1;32m     16\u001b[0m )\n\u001b[0;32m---> 17\u001b[0m \u001b[43mmodel\u001b[49m\u001b[38;5;241;43m.\u001b[39;49m\u001b[43mfit\u001b[49m\u001b[43m(\u001b[49m\u001b[43mX_train\u001b[49m\u001b[43m,\u001b[49m\u001b[43m \u001b[49m\u001b[43my_train\u001b[49m\u001b[43m)\u001b[49m\n\u001b[1;32m     18\u001b[0m preds \u001b[38;5;241m=\u001b[39m model\u001b[38;5;241m.\u001b[39mpredict(X_val)\n\u001b[1;32m     19\u001b[0m rmse \u001b[38;5;241m=\u001b[39m mean_squared_error(y_val, preds, squared\u001b[38;5;241m=\u001b[39m\u001b[38;5;28;01mFalse\u001b[39;00m)\n",
      "File \u001b[0;32m~/.python/current/lib/python3.10/site-packages/xgboost/core.py:730\u001b[0m, in \u001b[0;36mrequire_keyword_args.<locals>.throw_if.<locals>.inner_f\u001b[0;34m(*args, **kwargs)\u001b[0m\n\u001b[1;32m    728\u001b[0m \u001b[38;5;28;01mfor\u001b[39;00m k, arg \u001b[38;5;129;01min\u001b[39;00m \u001b[38;5;28mzip\u001b[39m(sig\u001b[38;5;241m.\u001b[39mparameters, args):\n\u001b[1;32m    729\u001b[0m     kwargs[k] \u001b[38;5;241m=\u001b[39m arg\n\u001b[0;32m--> 730\u001b[0m \u001b[38;5;28;01mreturn\u001b[39;00m \u001b[43mfunc\u001b[49m\u001b[43m(\u001b[49m\u001b[38;5;241;43m*\u001b[39;49m\u001b[38;5;241;43m*\u001b[39;49m\u001b[43mkwargs\u001b[49m\u001b[43m)\u001b[49m\n",
      "File \u001b[0;32m~/.python/current/lib/python3.10/site-packages/xgboost/sklearn.py:1090\u001b[0m, in \u001b[0;36mXGBModel.fit\u001b[0;34m(self, X, y, sample_weight, base_margin, eval_set, eval_metric, early_stopping_rounds, verbose, xgb_model, sample_weight_eval_set, base_margin_eval_set, feature_weights, callbacks)\u001b[0m\n\u001b[1;32m   1079\u001b[0m     obj \u001b[38;5;241m=\u001b[39m \u001b[38;5;28;01mNone\u001b[39;00m\n\u001b[1;32m   1081\u001b[0m (\n\u001b[1;32m   1082\u001b[0m     model,\n\u001b[1;32m   1083\u001b[0m     metric,\n\u001b[0;32m   (...)\u001b[0m\n\u001b[1;32m   1088\u001b[0m     xgb_model, eval_metric, params, early_stopping_rounds, callbacks\n\u001b[1;32m   1089\u001b[0m )\n\u001b[0;32m-> 1090\u001b[0m \u001b[38;5;28mself\u001b[39m\u001b[38;5;241m.\u001b[39m_Booster \u001b[38;5;241m=\u001b[39m \u001b[43mtrain\u001b[49m\u001b[43m(\u001b[49m\n\u001b[1;32m   1091\u001b[0m \u001b[43m    \u001b[49m\u001b[43mparams\u001b[49m\u001b[43m,\u001b[49m\n\u001b[1;32m   1092\u001b[0m \u001b[43m    \u001b[49m\u001b[43mtrain_dmatrix\u001b[49m\u001b[43m,\u001b[49m\n\u001b[1;32m   1093\u001b[0m \u001b[43m    \u001b[49m\u001b[38;5;28;43mself\u001b[39;49m\u001b[38;5;241;43m.\u001b[39;49m\u001b[43mget_num_boosting_rounds\u001b[49m\u001b[43m(\u001b[49m\u001b[43m)\u001b[49m\u001b[43m,\u001b[49m\n\u001b[1;32m   1094\u001b[0m \u001b[43m    \u001b[49m\u001b[43mevals\u001b[49m\u001b[38;5;241;43m=\u001b[39;49m\u001b[43mevals\u001b[49m\u001b[43m,\u001b[49m\n\u001b[1;32m   1095\u001b[0m \u001b[43m    \u001b[49m\u001b[43mearly_stopping_rounds\u001b[49m\u001b[38;5;241;43m=\u001b[39;49m\u001b[43mearly_stopping_rounds\u001b[49m\u001b[43m,\u001b[49m\n\u001b[1;32m   1096\u001b[0m \u001b[43m    \u001b[49m\u001b[43mevals_result\u001b[49m\u001b[38;5;241;43m=\u001b[39;49m\u001b[43mevals_result\u001b[49m\u001b[43m,\u001b[49m\n\u001b[1;32m   1097\u001b[0m \u001b[43m    \u001b[49m\u001b[43mobj\u001b[49m\u001b[38;5;241;43m=\u001b[39;49m\u001b[43mobj\u001b[49m\u001b[43m,\u001b[49m\n\u001b[1;32m   1098\u001b[0m \u001b[43m    \u001b[49m\u001b[43mcustom_metric\u001b[49m\u001b[38;5;241;43m=\u001b[39;49m\u001b[43mmetric\u001b[49m\u001b[43m,\u001b[49m\n\u001b[1;32m   1099\u001b[0m \u001b[43m    \u001b[49m\u001b[43mverbose_eval\u001b[49m\u001b[38;5;241;43m=\u001b[39;49m\u001b[43mverbose\u001b[49m\u001b[43m,\u001b[49m\n\u001b[1;32m   1100\u001b[0m \u001b[43m    \u001b[49m\u001b[43mxgb_model\u001b[49m\u001b[38;5;241;43m=\u001b[39;49m\u001b[43mmodel\u001b[49m\u001b[43m,\u001b[49m\n\u001b[1;32m   1101\u001b[0m \u001b[43m    \u001b[49m\u001b[43mcallbacks\u001b[49m\u001b[38;5;241;43m=\u001b[39;49m\u001b[43mcallbacks\u001b[49m\u001b[43m,\u001b[49m\n\u001b[1;32m   1102\u001b[0m \u001b[43m\u001b[49m\u001b[43m)\u001b[49m\n\u001b[1;32m   1104\u001b[0m \u001b[38;5;28mself\u001b[39m\u001b[38;5;241m.\u001b[39m_set_evaluation_result(evals_result)\n\u001b[1;32m   1105\u001b[0m \u001b[38;5;28;01mreturn\u001b[39;00m \u001b[38;5;28mself\u001b[39m\n",
      "File \u001b[0;32m~/.python/current/lib/python3.10/site-packages/xgboost/core.py:730\u001b[0m, in \u001b[0;36mrequire_keyword_args.<locals>.throw_if.<locals>.inner_f\u001b[0;34m(*args, **kwargs)\u001b[0m\n\u001b[1;32m    728\u001b[0m \u001b[38;5;28;01mfor\u001b[39;00m k, arg \u001b[38;5;129;01min\u001b[39;00m \u001b[38;5;28mzip\u001b[39m(sig\u001b[38;5;241m.\u001b[39mparameters, args):\n\u001b[1;32m    729\u001b[0m     kwargs[k] \u001b[38;5;241m=\u001b[39m arg\n\u001b[0;32m--> 730\u001b[0m \u001b[38;5;28;01mreturn\u001b[39;00m \u001b[43mfunc\u001b[49m\u001b[43m(\u001b[49m\u001b[38;5;241;43m*\u001b[39;49m\u001b[38;5;241;43m*\u001b[39;49m\u001b[43mkwargs\u001b[49m\u001b[43m)\u001b[49m\n",
      "File \u001b[0;32m~/.python/current/lib/python3.10/site-packages/xgboost/training.py:181\u001b[0m, in \u001b[0;36mtrain\u001b[0;34m(params, dtrain, num_boost_round, evals, obj, feval, maximize, early_stopping_rounds, evals_result, verbose_eval, xgb_model, callbacks, custom_metric)\u001b[0m\n\u001b[1;32m    179\u001b[0m \u001b[38;5;28;01mif\u001b[39;00m cb_container\u001b[38;5;241m.\u001b[39mbefore_iteration(bst, i, dtrain, evals):\n\u001b[1;32m    180\u001b[0m     \u001b[38;5;28;01mbreak\u001b[39;00m\n\u001b[0;32m--> 181\u001b[0m \u001b[43mbst\u001b[49m\u001b[38;5;241;43m.\u001b[39;49m\u001b[43mupdate\u001b[49m\u001b[43m(\u001b[49m\u001b[43mdtrain\u001b[49m\u001b[43m,\u001b[49m\u001b[43m \u001b[49m\u001b[43mi\u001b[49m\u001b[43m,\u001b[49m\u001b[43m \u001b[49m\u001b[43mobj\u001b[49m\u001b[43m)\u001b[49m\n\u001b[1;32m    182\u001b[0m \u001b[38;5;28;01mif\u001b[39;00m cb_container\u001b[38;5;241m.\u001b[39mafter_iteration(bst, i, dtrain, evals):\n\u001b[1;32m    183\u001b[0m     \u001b[38;5;28;01mbreak\u001b[39;00m\n",
      "File \u001b[0;32m~/.python/current/lib/python3.10/site-packages/xgboost/core.py:2051\u001b[0m, in \u001b[0;36mBooster.update\u001b[0;34m(self, dtrain, iteration, fobj)\u001b[0m\n\u001b[1;32m   2047\u001b[0m \u001b[38;5;28mself\u001b[39m\u001b[38;5;241m.\u001b[39m_assign_dmatrix_features(dtrain)\n\u001b[1;32m   2049\u001b[0m \u001b[38;5;28;01mif\u001b[39;00m fobj \u001b[38;5;129;01mis\u001b[39;00m \u001b[38;5;28;01mNone\u001b[39;00m:\n\u001b[1;32m   2050\u001b[0m     _check_call(\n\u001b[0;32m-> 2051\u001b[0m         \u001b[43m_LIB\u001b[49m\u001b[38;5;241;43m.\u001b[39;49m\u001b[43mXGBoosterUpdateOneIter\u001b[49m\u001b[43m(\u001b[49m\n\u001b[1;32m   2052\u001b[0m \u001b[43m            \u001b[49m\u001b[38;5;28;43mself\u001b[39;49m\u001b[38;5;241;43m.\u001b[39;49m\u001b[43mhandle\u001b[49m\u001b[43m,\u001b[49m\u001b[43m \u001b[49m\u001b[43mctypes\u001b[49m\u001b[38;5;241;43m.\u001b[39;49m\u001b[43mc_int\u001b[49m\u001b[43m(\u001b[49m\u001b[43miteration\u001b[49m\u001b[43m)\u001b[49m\u001b[43m,\u001b[49m\u001b[43m \u001b[49m\u001b[43mdtrain\u001b[49m\u001b[38;5;241;43m.\u001b[39;49m\u001b[43mhandle\u001b[49m\n\u001b[1;32m   2053\u001b[0m \u001b[43m        \u001b[49m\u001b[43m)\u001b[49m\n\u001b[1;32m   2054\u001b[0m     )\n\u001b[1;32m   2055\u001b[0m \u001b[38;5;28;01melse\u001b[39;00m:\n\u001b[1;32m   2056\u001b[0m     pred \u001b[38;5;241m=\u001b[39m \u001b[38;5;28mself\u001b[39m\u001b[38;5;241m.\u001b[39mpredict(dtrain, output_margin\u001b[38;5;241m=\u001b[39m\u001b[38;5;28;01mTrue\u001b[39;00m, training\u001b[38;5;241m=\u001b[39m\u001b[38;5;28;01mTrue\u001b[39;00m)\n",
      "\u001b[0;31mKeyboardInterrupt\u001b[0m: "
     ]
    }
   ],
   "source": [
    "trials = Trials()\n",
    "best = fmin(fn=objective,\n",
    "            space=space,\n",
    "            algo=tpe.suggest,\n",
    "            max_evals=50,\n",
    "            trials=trials)\n",
    "print(\"Best hyperparameters:\", best)\n"
   ]
  },
  {
   "cell_type": "code",
   "execution_count": null,
   "id": "1a12fe94",
   "metadata": {},
   "outputs": [],
   "source": [
    "## Trainin model with the best hyperparamters "
   ]
  },
  {
   "cell_type": "code",
   "execution_count": null,
   "id": "e97f520b",
   "metadata": {},
   "outputs": [],
   "source": [
    "import xgboost as xgb\n",
    "\n",
    "# Preparing training and validation datasets\n",
    "train = xgb.DMatrix(X_train, label=y_train)\n",
    "valid = xgb.DMatrix(X_val, label=y_val)\n"
   ]
  },
  {
   "cell_type": "code",
   "execution_count": null,
   "id": "722b9f82",
   "metadata": {},
   "outputs": [],
   "source": [
    "hyperparams ={'colsample_bytree':0.9320267530659203,\n",
    "            'gamma':0.0976458782129943,\n",
    "            'learning_rate':0.019905481508947585,\n",
    "            'max_depth':2,\n",
    "            'n_estimators':100,\n",
    "            'subsample':0.7513506613595762}"
   ]
  },
  {
   "cell_type": "code",
   "execution_count": null,
   "id": "f15fffe8",
   "metadata": {},
   "outputs": [
    {
     "name": "stdout",
     "output_type": "stream",
     "text": [
      "[0]\tvalidation-rmse:10.05955\n"
     ]
    },
    {
     "name": "stderr",
     "output_type": "stream",
     "text": [
      "/home/codespace/.python/current/lib/python3.10/site-packages/xgboost/core.py:160: UserWarning: [19:34:25] WARNING: /workspace/src/learner.cc:742: \n",
      "Parameters: { \"n_estimators\" } are not used.\n",
      "\n",
      "  warnings.warn(smsg, UserWarning)\n"
     ]
    },
    {
     "name": "stdout",
     "output_type": "stream",
     "text": [
      "[1]\tvalidation-rmse:10.02448\n",
      "[2]\tvalidation-rmse:10.01670\n",
      "[3]\tvalidation-rmse:9.98290\n",
      "[4]\tvalidation-rmse:9.97543\n",
      "[5]\tvalidation-rmse:9.96895\n",
      "[6]\tvalidation-rmse:9.93640\n",
      "[7]\tvalidation-rmse:9.93023\n",
      "[8]\tvalidation-rmse:9.89888\n",
      "[9]\tvalidation-rmse:9.89297\n",
      "[10]\tvalidation-rmse:9.88730\n",
      "[11]\tvalidation-rmse:9.88183\n",
      "[12]\tvalidation-rmse:9.85163\n",
      "[13]\tvalidation-rmse:9.82257\n",
      "[14]\tvalidation-rmse:9.79453\n",
      "[15]\tvalidation-rmse:9.76754\n",
      "[16]\tvalidation-rmse:9.74151\n",
      "[17]\tvalidation-rmse:9.73636\n",
      "[18]\tvalidation-rmse:9.73141\n",
      "[19]\tvalidation-rmse:9.70633\n",
      "[20]\tvalidation-rmse:9.68216\n",
      "[21]\tvalidation-rmse:9.67741\n",
      "[22]\tvalidation-rmse:9.67286\n",
      "[23]\tvalidation-rmse:9.64962\n",
      "[24]\tvalidation-rmse:9.62718\n",
      "[25]\tvalidation-rmse:9.62286\n",
      "[26]\tvalidation-rmse:9.60133\n",
      "[27]\tvalidation-rmse:9.58055\n",
      "[28]\tvalidation-rmse:9.56054\n",
      "[29]\tvalidation-rmse:9.55460\n",
      "[30]\tvalidation-rmse:9.55045\n",
      "[31]\tvalidation-rmse:9.54645\n",
      "[32]\tvalidation-rmse:9.52719\n",
      "[33]\tvalidation-rmse:9.52155\n",
      "[34]\tvalidation-rmse:9.50304\n",
      "[35]\tvalidation-rmse:9.49926\n",
      "[36]\tvalidation-rmse:9.48146\n",
      "[37]\tvalidation-rmse:9.46429\n",
      "[38]\tvalidation-rmse:9.44778\n",
      "[39]\tvalidation-rmse:9.43187\n",
      "[40]\tvalidation-rmse:9.42830\n",
      "[41]\tvalidation-rmse:9.41299\n",
      "[42]\tvalidation-rmse:9.39823\n",
      "[43]\tvalidation-rmse:9.39485\n",
      "[44]\tvalidation-rmse:9.38069\n",
      "[45]\tvalidation-rmse:9.36703\n",
      "[46]\tvalidation-rmse:9.35387\n",
      "[47]\tvalidation-rmse:9.34121\n",
      "[48]\tvalidation-rmse:9.33611\n",
      "[49]\tvalidation-rmse:9.33287\n",
      "[50]\tvalidation-rmse:9.32072\n",
      "[51]\tvalidation-rmse:9.30881\n",
      "[52]\tvalidation-rmse:9.29750\n",
      "[53]\tvalidation-rmse:9.28650\n",
      "[54]\tvalidation-rmse:9.27588\n",
      "[55]\tvalidation-rmse:9.27107\n",
      "[56]\tvalidation-rmse:9.26097\n",
      "[57]\tvalidation-rmse:9.24394\n",
      "[58]\tvalidation-rmse:9.23439\n",
      "[59]\tvalidation-rmse:9.21818\n",
      "[60]\tvalidation-rmse:9.20248\n",
      "[61]\tvalidation-rmse:9.19364\n",
      "[62]\tvalidation-rmse:9.17878\n",
      "[63]\tvalidation-rmse:9.17581\n",
      "[64]\tvalidation-rmse:9.16142\n",
      "[65]\tvalidation-rmse:9.15860\n",
      "[66]\tvalidation-rmse:9.15067\n",
      "[67]\tvalidation-rmse:9.14830\n",
      "[68]\tvalidation-rmse:9.14564\n",
      "[69]\tvalidation-rmse:9.14309\n",
      "[70]\tvalidation-rmse:9.12948\n",
      "[71]\tvalidation-rmse:9.11635\n",
      "[72]\tvalidation-rmse:9.10900\n",
      "[73]\tvalidation-rmse:9.09654\n",
      "[74]\tvalidation-rmse:9.09444\n",
      "[75]\tvalidation-rmse:9.09239\n",
      "[76]\tvalidation-rmse:9.09042\n",
      "[77]\tvalidation-rmse:9.08822\n",
      "[78]\tvalidation-rmse:9.08605\n",
      "[79]\tvalidation-rmse:9.07404\n",
      "[80]\tvalidation-rmse:9.07200\n",
      "[81]\tvalidation-rmse:9.06793\n",
      "[82]\tvalidation-rmse:9.06119\n",
      "[83]\tvalidation-rmse:9.04982\n",
      "[84]\tvalidation-rmse:9.04813\n",
      "[85]\tvalidation-rmse:9.04652\n",
      "[86]\tvalidation-rmse:9.04465\n",
      "[87]\tvalidation-rmse:9.03365\n",
      "[88]\tvalidation-rmse:9.03187\n",
      "[89]\tvalidation-rmse:9.02585\n",
      "[90]\tvalidation-rmse:9.02408\n",
      "[91]\tvalidation-rmse:9.02267\n",
      "[92]\tvalidation-rmse:9.02108\n",
      "[93]\tvalidation-rmse:9.01732\n",
      "[94]\tvalidation-rmse:9.00695\n",
      "[95]\tvalidation-rmse:9.00130\n",
      "[96]\tvalidation-rmse:8.99143\n",
      "[97]\tvalidation-rmse:8.99014\n",
      "[98]\tvalidation-rmse:8.98890\n",
      "[99]\tvalidation-rmse:8.97938\n"
     ]
    },
    {
     "name": "stderr",
     "output_type": "stream",
     "text": [
      "/home/codespace/.python/current/lib/python3.10/site-packages/sklearn/metrics/_regression.py:492: FutureWarning: 'squared' is deprecated in version 1.4 and will be removed in 1.6. To calculate the root mean squared error, use the function'root_mean_squared_error'.\n",
      "  warnings.warn(\n",
      "/home/codespace/.python/current/lib/python3.10/site-packages/xgboost/core.py:160: UserWarning: [19:34:40] WARNING: /workspace/src/c_api/c_api.cc:1240: Saving into deprecated binary model format, please consider using `json` or `ubj`. Model format will default to JSON in XGBoost 2.2 if not specified.\n",
      "  warnings.warn(smsg, UserWarning)\n",
      "/home/codespace/.python/current/lib/python3.10/site-packages/_distutils_hack/__init__.py:18: UserWarning: Distutils was imported before Setuptools, but importing Setuptools also replaces the `distutils` module in `sys.modules`. This may lead to undesirable behaviors or errors. To avoid these issues, avoid using distutils directly, ensure that setuptools is installed in the traditional way (e.g. not an editable install), and/or make sure that setuptools is always imported before distutils.\n",
      "  warnings.warn(\n",
      "/home/codespace/.python/current/lib/python3.10/site-packages/_distutils_hack/__init__.py:33: UserWarning: Setuptools is replacing distutils.\n",
      "  warnings.warn(\"Setuptools is replacing distutils.\")\n"
     ]
    }
   ],
   "source": [
    "\n",
    "\n",
    "with mlflow.start_run():\n",
    "    mlflow.set_tag(\"Developer\", \"Huseyn\")\n",
    "    mlflow.log_params(hyperparams)\n",
    "    booster=xgb.train(\n",
    "                params=hyperparams,\n",
    "                dtrain=train,\n",
    "                num_boost_round=100,\n",
    "                early_stopping_rounds=50,\n",
    "                evals=[(valid, \"validation\")])\n",
    "    y_pred=booster.predict(valid)\n",
    "    rmse = mean_squared_error(y_val, y_pred, squared=False)\n",
    "    mlflow.log_metric(\"rmse\", rmse)\n",
    "    with open(\"models/preprocessor.b\", \"wb\") as f_out:\n",
    "        pickle.dump(dv,f_out)\n",
    "    mlflow.log_artifact(\"models/preprocessor.b\", artifact_path=\"preprocessor\")\n",
    "    mlflow.xgboost.log_model(booster, artifact_path=\"models_mlflow\")\n",
    "   "
   ]
  },
  {
   "cell_type": "code",
   "execution_count": null,
   "id": "c01b9d7a",
   "metadata": {},
   "outputs": [],
   "source": [
    "##Autolog mlfow "
   ]
  },
  {
   "cell_type": "code",
   "execution_count": null,
   "id": "b350961c",
   "metadata": {},
   "outputs": [
    {
     "name": "stderr",
     "output_type": "stream",
     "text": [
      "/home/codespace/.python/current/lib/python3.10/site-packages/xgboost/core.py:160: UserWarning: [11:39:39] WARNING: /workspace/src/learner.cc:742: \n",
      "Parameters: { \"n_estimators\" } are not used.\n",
      "\n",
      "  warnings.warn(smsg, UserWarning)\n"
     ]
    },
    {
     "name": "stdout",
     "output_type": "stream",
     "text": [
      "[0]\tvalidation-rmse:10.05955\n",
      "[1]\tvalidation-rmse:10.02448\n",
      "[2]\tvalidation-rmse:10.01670\n",
      "[3]\tvalidation-rmse:9.98290\n",
      "[4]\tvalidation-rmse:9.97543\n",
      "[5]\tvalidation-rmse:9.96895\n",
      "[6]\tvalidation-rmse:9.93640\n",
      "[7]\tvalidation-rmse:9.93023\n",
      "[8]\tvalidation-rmse:9.89888\n",
      "[9]\tvalidation-rmse:9.89297\n",
      "[10]\tvalidation-rmse:9.88730\n",
      "[11]\tvalidation-rmse:9.88183\n",
      "[12]\tvalidation-rmse:9.85163\n",
      "[13]\tvalidation-rmse:9.82257\n",
      "[14]\tvalidation-rmse:9.79453\n",
      "[15]\tvalidation-rmse:9.76754\n",
      "[16]\tvalidation-rmse:9.74151\n",
      "[17]\tvalidation-rmse:9.73636\n",
      "[18]\tvalidation-rmse:9.73141\n",
      "[19]\tvalidation-rmse:9.70633\n",
      "[20]\tvalidation-rmse:9.68216\n",
      "[21]\tvalidation-rmse:9.67741\n",
      "[22]\tvalidation-rmse:9.67286\n",
      "[23]\tvalidation-rmse:9.64962\n",
      "[24]\tvalidation-rmse:9.62718\n",
      "[25]\tvalidation-rmse:9.62286\n",
      "[26]\tvalidation-rmse:9.60133\n",
      "[27]\tvalidation-rmse:9.58055\n",
      "[28]\tvalidation-rmse:9.56054\n",
      "[29]\tvalidation-rmse:9.55460\n",
      "[30]\tvalidation-rmse:9.55045\n",
      "[31]\tvalidation-rmse:9.54645\n",
      "[32]\tvalidation-rmse:9.52719\n",
      "[33]\tvalidation-rmse:9.52155\n",
      "[34]\tvalidation-rmse:9.50304\n",
      "[35]\tvalidation-rmse:9.49926\n",
      "[36]\tvalidation-rmse:9.48146\n",
      "[37]\tvalidation-rmse:9.46429\n",
      "[38]\tvalidation-rmse:9.44778\n",
      "[39]\tvalidation-rmse:9.43187\n",
      "[40]\tvalidation-rmse:9.42830\n",
      "[41]\tvalidation-rmse:9.41299\n",
      "[42]\tvalidation-rmse:9.39823\n",
      "[43]\tvalidation-rmse:9.39485\n",
      "[44]\tvalidation-rmse:9.38069\n",
      "[45]\tvalidation-rmse:9.36703\n",
      "[46]\tvalidation-rmse:9.35387\n",
      "[47]\tvalidation-rmse:9.34121\n",
      "[48]\tvalidation-rmse:9.33611\n",
      "[49]\tvalidation-rmse:9.33287\n",
      "[50]\tvalidation-rmse:9.32072\n",
      "[51]\tvalidation-rmse:9.30881\n",
      "[52]\tvalidation-rmse:9.29750\n",
      "[53]\tvalidation-rmse:9.28650\n",
      "[54]\tvalidation-rmse:9.27588\n",
      "[55]\tvalidation-rmse:9.27107\n",
      "[56]\tvalidation-rmse:9.26097\n",
      "[57]\tvalidation-rmse:9.24394\n",
      "[58]\tvalidation-rmse:9.23439\n",
      "[59]\tvalidation-rmse:9.21818\n",
      "[60]\tvalidation-rmse:9.20248\n",
      "[61]\tvalidation-rmse:9.19364\n",
      "[62]\tvalidation-rmse:9.17878\n",
      "[63]\tvalidation-rmse:9.17581\n",
      "[64]\tvalidation-rmse:9.16142\n",
      "[65]\tvalidation-rmse:9.15860\n",
      "[66]\tvalidation-rmse:9.15067\n",
      "[67]\tvalidation-rmse:9.14830\n",
      "[68]\tvalidation-rmse:9.14564\n",
      "[69]\tvalidation-rmse:9.14309\n",
      "[70]\tvalidation-rmse:9.12948\n",
      "[71]\tvalidation-rmse:9.11635\n",
      "[72]\tvalidation-rmse:9.10900\n",
      "[73]\tvalidation-rmse:9.09654\n",
      "[74]\tvalidation-rmse:9.09444\n",
      "[75]\tvalidation-rmse:9.09239\n",
      "[76]\tvalidation-rmse:9.09042\n",
      "[77]\tvalidation-rmse:9.08822\n",
      "[78]\tvalidation-rmse:9.08605\n",
      "[79]\tvalidation-rmse:9.07404\n",
      "[80]\tvalidation-rmse:9.07200\n",
      "[81]\tvalidation-rmse:9.06793\n",
      "[82]\tvalidation-rmse:9.06119\n",
      "[83]\tvalidation-rmse:9.04982\n",
      "[84]\tvalidation-rmse:9.04813\n",
      "[85]\tvalidation-rmse:9.04652\n",
      "[86]\tvalidation-rmse:9.04465\n",
      "[87]\tvalidation-rmse:9.03365\n",
      "[88]\tvalidation-rmse:9.03187\n",
      "[89]\tvalidation-rmse:9.02585\n",
      "[90]\tvalidation-rmse:9.02408\n",
      "[91]\tvalidation-rmse:9.02267\n",
      "[92]\tvalidation-rmse:9.02108\n",
      "[93]\tvalidation-rmse:9.01732\n",
      "[94]\tvalidation-rmse:9.00695\n",
      "[95]\tvalidation-rmse:9.00130\n",
      "[96]\tvalidation-rmse:8.99143\n",
      "[97]\tvalidation-rmse:8.99014\n",
      "[98]\tvalidation-rmse:8.98890\n",
      "[99]\tvalidation-rmse:8.97938\n",
      "[100]\tvalidation-rmse:8.97423\n",
      "[101]\tvalidation-rmse:8.96520\n",
      "[102]\tvalidation-rmse:8.96024\n",
      "[103]\tvalidation-rmse:8.95909\n",
      "[104]\tvalidation-rmse:8.95766\n",
      "[105]\tvalidation-rmse:8.94907\n",
      "[106]\tvalidation-rmse:8.94773\n",
      "[107]\tvalidation-rmse:8.93944\n",
      "[108]\tvalidation-rmse:8.93490\n",
      "[109]\tvalidation-rmse:8.93384\n",
      "[110]\tvalidation-rmse:8.93281\n",
      "[111]\tvalidation-rmse:8.93148\n",
      "[112]\tvalidation-rmse:8.92362\n",
      "[113]\tvalidation-rmse:8.91607\n",
      "[114]\tvalidation-rmse:8.91510\n",
      "[115]\tvalidation-rmse:8.91417\n",
      "[116]\tvalidation-rmse:8.91329\n",
      "[117]\tvalidation-rmse:8.91217\n",
      "[118]\tvalidation-rmse:8.90796\n",
      "[119]\tvalidation-rmse:8.90073\n",
      "[120]\tvalidation-rmse:8.89967\n",
      "[121]\tvalidation-rmse:8.89867\n",
      "[122]\tvalidation-rmse:8.89484\n",
      "[123]\tvalidation-rmse:8.89386\n",
      "[124]\tvalidation-rmse:8.88705\n",
      "[125]\tvalidation-rmse:8.88628\n",
      "[126]\tvalidation-rmse:8.87970\n",
      "[127]\tvalidation-rmse:8.87636\n",
      "[128]\tvalidation-rmse:8.86999\n",
      "[129]\tvalidation-rmse:8.86926\n",
      "[130]\tvalidation-rmse:8.86573\n",
      "[131]\tvalidation-rmse:8.85969\n",
      "[132]\tvalidation-rmse:8.85630\n",
      "[133]\tvalidation-rmse:8.85540\n",
      "[134]\tvalidation-rmse:8.85472\n",
      "[135]\tvalidation-rmse:8.84897\n",
      "[136]\tvalidation-rmse:8.84831\n",
      "[137]\tvalidation-rmse:8.84529\n",
      "[138]\tvalidation-rmse:8.83980\n",
      "[139]\tvalidation-rmse:8.83904\n",
      "[140]\tvalidation-rmse:8.83602\n",
      "[141]\tvalidation-rmse:8.83082\n",
      "[142]\tvalidation-rmse:8.82810\n",
      "[143]\tvalidation-rmse:8.82748\n",
      "[144]\tvalidation-rmse:8.82250\n",
      "[145]\tvalidation-rmse:8.81768\n",
      "[146]\tvalidation-rmse:8.81709\n",
      "[147]\tvalidation-rmse:8.81649\n",
      "[148]\tvalidation-rmse:8.81386\n",
      "[149]\tvalidation-rmse:8.81337\n",
      "[150]\tvalidation-rmse:8.80879\n",
      "[151]\tvalidation-rmse:8.80562\n",
      "[152]\tvalidation-rmse:8.80492\n",
      "[153]\tvalidation-rmse:8.80436\n",
      "[154]\tvalidation-rmse:8.80383\n",
      "[155]\tvalidation-rmse:8.80144\n",
      "[156]\tvalidation-rmse:8.80076\n",
      "[157]\tvalidation-rmse:8.79639\n",
      "[158]\tvalidation-rmse:8.79219\n",
      "[159]\tvalidation-rmse:8.79167\n",
      "[160]\tvalidation-rmse:8.78937\n",
      "[161]\tvalidation-rmse:8.78895\n",
      "[162]\tvalidation-rmse:8.78853\n",
      "[163]\tvalidation-rmse:8.78455\n",
      "[164]\tvalidation-rmse:8.78238\n",
      "[165]\tvalidation-rmse:8.78099\n",
      "[166]\tvalidation-rmse:8.78051\n",
      "[167]\tvalidation-rmse:8.77667\n",
      "[168]\tvalidation-rmse:8.77575\n",
      "[169]\tvalidation-rmse:8.77276\n",
      "[170]\tvalidation-rmse:8.77243\n",
      "[171]\tvalidation-rmse:8.77040\n",
      "[172]\tvalidation-rmse:8.76952\n",
      "[173]\tvalidation-rmse:8.76869\n",
      "[174]\tvalidation-rmse:8.76583\n",
      "[175]\tvalidation-rmse:8.76220\n",
      "[176]\tvalidation-rmse:8.76141\n",
      "[177]\tvalidation-rmse:8.76082\n",
      "[178]\tvalidation-rmse:8.75996\n",
      "[179]\tvalidation-rmse:8.75951\n",
      "[180]\tvalidation-rmse:8.75602\n",
      "[181]\tvalidation-rmse:8.75528\n",
      "[182]\tvalidation-rmse:8.75342\n",
      "[183]\tvalidation-rmse:8.75008\n",
      "[184]\tvalidation-rmse:8.74938\n",
      "[185]\tvalidation-rmse:8.74870\n",
      "[186]\tvalidation-rmse:8.74839\n",
      "[187]\tvalidation-rmse:8.74662\n",
      "[188]\tvalidation-rmse:8.74605\n",
      "[189]\tvalidation-rmse:8.74532\n",
      "[190]\tvalidation-rmse:8.74477\n",
      "[191]\tvalidation-rmse:8.74158\n",
      "[192]\tvalidation-rmse:8.74127\n",
      "[193]\tvalidation-rmse:8.74065\n",
      "[194]\tvalidation-rmse:8.73895\n",
      "[195]\tvalidation-rmse:8.73593\n",
      "[196]\tvalidation-rmse:8.73533\n",
      "[197]\tvalidation-rmse:8.73374\n",
      "[198]\tvalidation-rmse:8.73345\n",
      "[199]\tvalidation-rmse:8.73225\n",
      "[200]\tvalidation-rmse:8.73159\n",
      "[201]\tvalidation-rmse:8.72869\n",
      "[202]\tvalidation-rmse:8.72754\n",
      "[203]\tvalidation-rmse:8.72726\n",
      "[204]\tvalidation-rmse:8.72616\n",
      "[205]\tvalidation-rmse:8.72563\n",
      "[206]\tvalidation-rmse:8.72285\n",
      "[207]\tvalidation-rmse:8.72220\n",
      "[208]\tvalidation-rmse:8.72160\n",
      "[209]\tvalidation-rmse:8.72012\n",
      "[210]\tvalidation-rmse:8.71948\n",
      "[211]\tvalidation-rmse:8.71887\n",
      "[212]\tvalidation-rmse:8.71619\n",
      "[213]\tvalidation-rmse:8.71592\n",
      "[214]\tvalidation-rmse:8.71453\n",
      "[215]\tvalidation-rmse:8.71393\n",
      "[216]\tvalidation-rmse:8.71337\n",
      "[217]\tvalidation-rmse:8.71282\n",
      "[218]\tvalidation-rmse:8.71026\n",
      "[219]\tvalidation-rmse:8.71000\n",
      "[220]\tvalidation-rmse:8.70727\n",
      "[221]\tvalidation-rmse:8.70678\n",
      "[222]\tvalidation-rmse:8.70627\n",
      "[223]\tvalidation-rmse:8.70494\n",
      "[224]\tvalidation-rmse:8.70251\n",
      "[225]\tvalidation-rmse:8.70202\n",
      "[226]\tvalidation-rmse:8.69969\n",
      "[227]\tvalidation-rmse:8.69742\n",
      "[228]\tvalidation-rmse:8.69717\n",
      "[229]\tvalidation-rmse:8.69666\n",
      "[230]\tvalidation-rmse:8.69407\n",
      "[231]\tvalidation-rmse:8.69284\n",
      "[232]\tvalidation-rmse:8.69167\n",
      "[233]\tvalidation-rmse:8.69143\n",
      "[234]\tvalidation-rmse:8.69094\n",
      "[235]\tvalidation-rmse:8.69047\n",
      "[236]\tvalidation-rmse:8.69024\n",
      "[237]\tvalidation-rmse:8.68809\n",
      "[238]\tvalidation-rmse:8.68771\n",
      "[239]\tvalidation-rmse:8.68749\n",
      "[240]\tvalidation-rmse:8.68650\n",
      "[241]\tvalidation-rmse:8.68603\n",
      "[242]\tvalidation-rmse:8.68352\n",
      "[243]\tvalidation-rmse:8.68308\n",
      "[244]\tvalidation-rmse:8.68249\n",
      "[245]\tvalidation-rmse:8.68137\n",
      "[246]\tvalidation-rmse:8.68089\n",
      "[247]\tvalidation-rmse:8.67994\n",
      "[248]\tvalidation-rmse:8.67753\n",
      "[249]\tvalidation-rmse:8.67522\n",
      "[250]\tvalidation-rmse:8.67317\n",
      "[251]\tvalidation-rmse:8.67295\n",
      "[252]\tvalidation-rmse:8.67253\n",
      "[253]\tvalidation-rmse:8.67145\n",
      "[254]\tvalidation-rmse:8.67125\n",
      "[255]\tvalidation-rmse:8.67085\n",
      "[256]\tvalidation-rmse:8.66994\n",
      "[257]\tvalidation-rmse:8.66799\n",
      "[258]\tvalidation-rmse:8.66760\n",
      "[259]\tvalidation-rmse:8.66720\n",
      "[260]\tvalidation-rmse:8.66701\n",
      "[261]\tvalidation-rmse:8.66479\n",
      "[262]\tvalidation-rmse:8.66442\n",
      "[263]\tvalidation-rmse:8.66390\n",
      "[264]\tvalidation-rmse:8.66173\n",
      "[265]\tvalidation-rmse:8.65967\n",
      "[266]\tvalidation-rmse:8.65866\n",
      "[267]\tvalidation-rmse:8.65678\n",
      "[268]\tvalidation-rmse:8.65661\n",
      "[269]\tvalidation-rmse:8.65624\n",
      "[270]\tvalidation-rmse:8.65591\n",
      "[271]\tvalidation-rmse:8.65504\n",
      "[272]\tvalidation-rmse:8.65324\n",
      "[273]\tvalidation-rmse:8.65285\n",
      "[274]\tvalidation-rmse:8.65236\n",
      "[275]\tvalidation-rmse:8.65153\n",
      "[276]\tvalidation-rmse:8.65136\n",
      "[277]\tvalidation-rmse:8.65043\n",
      "[278]\tvalidation-rmse:8.64952\n",
      "[279]\tvalidation-rmse:8.64919\n",
      "[280]\tvalidation-rmse:8.64718\n",
      "[281]\tvalidation-rmse:8.64684\n",
      "[282]\tvalidation-rmse:8.64484\n",
      "[283]\tvalidation-rmse:8.64456\n",
      "[284]\tvalidation-rmse:8.64439\n",
      "[285]\tvalidation-rmse:8.64270\n",
      "[286]\tvalidation-rmse:8.64222\n",
      "[287]\tvalidation-rmse:8.64143\n",
      "[288]\tvalidation-rmse:8.64127\n",
      "[289]\tvalidation-rmse:8.64096\n",
      "[290]\tvalidation-rmse:8.64063\n",
      "[291]\tvalidation-rmse:8.63937\n",
      "[292]\tvalidation-rmse:8.63910\n",
      "[293]\tvalidation-rmse:8.63833\n",
      "[294]\tvalidation-rmse:8.63643\n",
      "[295]\tvalidation-rmse:8.63627\n",
      "[296]\tvalidation-rmse:8.63593\n",
      "[297]\tvalidation-rmse:8.63429\n",
      "[298]\tvalidation-rmse:8.63345\n",
      "[299]\tvalidation-rmse:8.63159\n",
      "[300]\tvalidation-rmse:8.62982\n",
      "[301]\tvalidation-rmse:8.62949\n",
      "[302]\tvalidation-rmse:8.62829\n",
      "[303]\tvalidation-rmse:8.62800\n",
      "[304]\tvalidation-rmse:8.62775\n",
      "[305]\tvalidation-rmse:8.62617\n",
      "[306]\tvalidation-rmse:8.62537\n",
      "[307]\tvalidation-rmse:8.62509\n",
      "[308]\tvalidation-rmse:8.62436\n",
      "[309]\tvalidation-rmse:8.62406\n",
      "[310]\tvalidation-rmse:8.62258\n",
      "[311]\tvalidation-rmse:8.62182\n",
      "[312]\tvalidation-rmse:8.61541\n",
      "[313]\tvalidation-rmse:8.61507\n",
      "[314]\tvalidation-rmse:8.61392\n",
      "[315]\tvalidation-rmse:8.61250\n",
      "[316]\tvalidation-rmse:8.61178\n",
      "[317]\tvalidation-rmse:8.61147\n",
      "[318]\tvalidation-rmse:8.61116\n",
      "[319]\tvalidation-rmse:8.60497\n",
      "[320]\tvalidation-rmse:8.60471\n",
      "[321]\tvalidation-rmse:8.60457\n",
      "[322]\tvalidation-rmse:8.60320\n",
      "[323]\tvalidation-rmse:8.60297\n",
      "[324]\tvalidation-rmse:8.60266\n",
      "[325]\tvalidation-rmse:8.60202\n",
      "[326]\tvalidation-rmse:8.60093\n",
      "[327]\tvalidation-rmse:8.60063\n",
      "[328]\tvalidation-rmse:8.60034\n",
      "[329]\tvalidation-rmse:8.59904\n",
      "[330]\tvalidation-rmse:8.59890\n",
      "[331]\tvalidation-rmse:8.59866\n",
      "[332]\tvalidation-rmse:8.59807\n",
      "[333]\tvalidation-rmse:8.59783\n",
      "[334]\tvalidation-rmse:8.59759\n",
      "[335]\tvalidation-rmse:8.59589\n",
      "[336]\tvalidation-rmse:8.59568\n",
      "[337]\tvalidation-rmse:8.59442\n",
      "[338]\tvalidation-rmse:8.58846\n",
      "[339]\tvalidation-rmse:8.58832\n",
      "[340]\tvalidation-rmse:8.58808\n",
      "[341]\tvalidation-rmse:8.58745\n",
      "[342]\tvalidation-rmse:8.58625\n",
      "[343]\tvalidation-rmse:8.58565\n",
      "[344]\tvalidation-rmse:8.58506\n",
      "[345]\tvalidation-rmse:8.58481\n",
      "[346]\tvalidation-rmse:8.58459\n",
      "[347]\tvalidation-rmse:8.58391\n",
      "[348]\tvalidation-rmse:8.58370\n",
      "[349]\tvalidation-rmse:8.58351\n",
      "[350]\tvalidation-rmse:8.58338\n",
      "[351]\tvalidation-rmse:8.58204\n",
      "[352]\tvalidation-rmse:8.57633\n",
      "[353]\tvalidation-rmse:8.57503\n",
      "[354]\tvalidation-rmse:8.57451\n",
      "[355]\tvalidation-rmse:8.57346\n",
      "[356]\tvalidation-rmse:8.57317\n",
      "[357]\tvalidation-rmse:8.57151\n",
      "[358]\tvalidation-rmse:8.57089\n",
      "[359]\tvalidation-rmse:8.56976\n",
      "[360]\tvalidation-rmse:8.56964\n",
      "[361]\tvalidation-rmse:8.56952\n",
      "[362]\tvalidation-rmse:8.56928\n",
      "[363]\tvalidation-rmse:8.56769\n",
      "[364]\tvalidation-rmse:8.56741\n",
      "[365]\tvalidation-rmse:8.56634\n",
      "[366]\tvalidation-rmse:8.56613\n",
      "[367]\tvalidation-rmse:8.56059\n",
      "[368]\tvalidation-rmse:8.55907\n",
      "[369]\tvalidation-rmse:8.55897\n",
      "[370]\tvalidation-rmse:8.55870\n",
      "[371]\tvalidation-rmse:8.55338\n",
      "[372]\tvalidation-rmse:8.55232\n",
      "[373]\tvalidation-rmse:8.55184\n",
      "[374]\tvalidation-rmse:8.55059\n",
      "[375]\tvalidation-rmse:8.54940\n",
      "[376]\tvalidation-rmse:8.54915\n",
      "[377]\tvalidation-rmse:8.54817\n",
      "[378]\tvalidation-rmse:8.54795\n",
      "[379]\tvalidation-rmse:8.54774\n",
      "[380]\tvalidation-rmse:8.54715\n",
      "[381]\tvalidation-rmse:8.54668\n",
      "[382]\tvalidation-rmse:8.54155\n",
      "[383]\tvalidation-rmse:8.54040\n",
      "[384]\tvalidation-rmse:8.54021\n",
      "[385]\tvalidation-rmse:8.54008\n",
      "[386]\tvalidation-rmse:8.53861\n",
      "[387]\tvalidation-rmse:8.53816\n",
      "[388]\tvalidation-rmse:8.53805\n",
      "[389]\tvalidation-rmse:8.53705\n",
      "[390]\tvalidation-rmse:8.53608\n",
      "[391]\tvalidation-rmse:8.53592\n",
      "[392]\tvalidation-rmse:8.53482\n",
      "[393]\tvalidation-rmse:8.53433\n",
      "[394]\tvalidation-rmse:8.53339\n",
      "[395]\tvalidation-rmse:8.52849\n",
      "[396]\tvalidation-rmse:8.52373\n",
      "[397]\tvalidation-rmse:8.52330\n",
      "[398]\tvalidation-rmse:8.52190\n",
      "[399]\tvalidation-rmse:8.52083\n",
      "[400]\tvalidation-rmse:8.52037\n",
      "[401]\tvalidation-rmse:8.51935\n",
      "[402]\tvalidation-rmse:8.51842\n",
      "[403]\tvalidation-rmse:8.51831\n",
      "[404]\tvalidation-rmse:8.51820\n",
      "[405]\tvalidation-rmse:8.51729\n",
      "[406]\tvalidation-rmse:8.51637\n",
      "[407]\tvalidation-rmse:8.51601\n",
      "[408]\tvalidation-rmse:8.51504\n",
      "[409]\tvalidation-rmse:8.51486\n",
      "[410]\tvalidation-rmse:8.51427\n",
      "[411]\tvalidation-rmse:8.51339\n",
      "[412]\tvalidation-rmse:8.51285\n",
      "[413]\tvalidation-rmse:8.51250\n",
      "[414]\tvalidation-rmse:8.50796\n",
      "[415]\tvalidation-rmse:8.50759\n",
      "[416]\tvalidation-rmse:8.50663\n",
      "[417]\tvalidation-rmse:8.50619\n",
      "[418]\tvalidation-rmse:8.50596\n",
      "[419]\tvalidation-rmse:8.50509\n",
      "[420]\tvalidation-rmse:8.50458\n",
      "[421]\tvalidation-rmse:8.50443\n",
      "[422]\tvalidation-rmse:8.50432\n",
      "[423]\tvalidation-rmse:8.50414\n",
      "[424]\tvalidation-rmse:8.50379\n",
      "[425]\tvalidation-rmse:8.50331\n",
      "[426]\tvalidation-rmse:8.50244\n",
      "[427]\tvalidation-rmse:8.50193\n",
      "[428]\tvalidation-rmse:8.50102\n",
      "[429]\tvalidation-rmse:8.49969\n",
      "[430]\tvalidation-rmse:8.49946\n",
      "[431]\tvalidation-rmse:8.49929\n",
      "[432]\tvalidation-rmse:8.49895\n",
      "[433]\tvalidation-rmse:8.49811\n",
      "[434]\tvalidation-rmse:8.49765\n",
      "[435]\tvalidation-rmse:8.49326\n",
      "[436]\tvalidation-rmse:8.49282\n",
      "[437]\tvalidation-rmse:8.49259\n",
      "[438]\tvalidation-rmse:8.49172\n",
      "[439]\tvalidation-rmse:8.49089\n",
      "[440]\tvalidation-rmse:8.49057\n",
      "[441]\tvalidation-rmse:8.48949\n",
      "[442]\tvalidation-rmse:8.48906\n",
      "[443]\tvalidation-rmse:8.48896\n",
      "[444]\tvalidation-rmse:8.48843\n",
      "[445]\tvalidation-rmse:8.48760\n",
      "[446]\tvalidation-rmse:8.48745\n",
      "[447]\tvalidation-rmse:8.48664\n",
      "[448]\tvalidation-rmse:8.48584\n",
      "[449]\tvalidation-rmse:8.48548\n",
      "[450]\tvalidation-rmse:8.48124\n",
      "[451]\tvalidation-rmse:8.48020\n",
      "[452]\tvalidation-rmse:8.48010\n",
      "[453]\tvalidation-rmse:8.47930\n",
      "[454]\tvalidation-rmse:8.47852\n",
      "[455]\tvalidation-rmse:8.47726\n",
      "[456]\tvalidation-rmse:8.47684\n",
      "[457]\tvalidation-rmse:8.47607\n",
      "[458]\tvalidation-rmse:8.47556\n",
      "[459]\tvalidation-rmse:8.47477\n",
      "[460]\tvalidation-rmse:8.47377\n",
      "[461]\tvalidation-rmse:8.46973\n",
      "[462]\tvalidation-rmse:8.46933\n",
      "[463]\tvalidation-rmse:8.46888\n",
      "[464]\tvalidation-rmse:8.46791\n",
      "[465]\tvalidation-rmse:8.46716\n",
      "[466]\tvalidation-rmse:8.46689\n",
      "[467]\tvalidation-rmse:8.46684\n",
      "[468]\tvalidation-rmse:8.46562\n",
      "[469]\tvalidation-rmse:8.46550\n",
      "[470]\tvalidation-rmse:8.46431\n",
      "[471]\tvalidation-rmse:8.46426\n",
      "[472]\tvalidation-rmse:8.46040\n",
      "[473]\tvalidation-rmse:8.46001\n",
      "[474]\tvalidation-rmse:8.45980\n",
      "[475]\tvalidation-rmse:8.45888\n",
      "[476]\tvalidation-rmse:8.45855\n",
      "[477]\tvalidation-rmse:8.45784\n",
      "[478]\tvalidation-rmse:8.45779\n",
      "[479]\tvalidation-rmse:8.45762\n",
      "[480]\tvalidation-rmse:8.45673\n",
      "[481]\tvalidation-rmse:8.45669\n",
      "[482]\tvalidation-rmse:8.45599\n",
      "[483]\tvalidation-rmse:8.45555\n",
      "[484]\tvalidation-rmse:8.45546\n",
      "[485]\tvalidation-rmse:8.45518\n",
      "[486]\tvalidation-rmse:8.45505\n",
      "[487]\tvalidation-rmse:8.45436\n",
      "[488]\tvalidation-rmse:8.45431\n",
      "[489]\tvalidation-rmse:8.45385\n",
      "[490]\tvalidation-rmse:8.45319\n",
      "[491]\tvalidation-rmse:8.45289\n",
      "[492]\tvalidation-rmse:8.45251\n",
      "[493]\tvalidation-rmse:8.45219\n",
      "[494]\tvalidation-rmse:8.44843\n",
      "[495]\tvalidation-rmse:8.44779\n",
      "[496]\tvalidation-rmse:8.44707\n",
      "[497]\tvalidation-rmse:8.44692\n",
      "[498]\tvalidation-rmse:8.44647\n",
      "[499]\tvalidation-rmse:8.44604\n",
      "[500]\tvalidation-rmse:8.44246\n",
      "[501]\tvalidation-rmse:8.44216\n",
      "[502]\tvalidation-rmse:8.44138\n",
      "[503]\tvalidation-rmse:8.44026\n",
      "[504]\tvalidation-rmse:8.43984\n",
      "[505]\tvalidation-rmse:8.43966\n",
      "[506]\tvalidation-rmse:8.43929\n",
      "[507]\tvalidation-rmse:8.43859\n",
      "[508]\tvalidation-rmse:8.43792\n",
      "[509]\tvalidation-rmse:8.43731\n",
      "[510]\tvalidation-rmse:8.43687\n",
      "[511]\tvalidation-rmse:8.43646\n",
      "[512]\tvalidation-rmse:8.43298\n",
      "[513]\tvalidation-rmse:8.43286\n",
      "[514]\tvalidation-rmse:8.43250\n",
      "[515]\tvalidation-rmse:8.43190\n",
      "[516]\tvalidation-rmse:8.43134\n",
      "[517]\tvalidation-rmse:8.43121\n",
      "[518]\tvalidation-rmse:8.43038\n",
      "[519]\tvalidation-rmse:8.42965\n",
      "[520]\tvalidation-rmse:8.42936\n",
      "[521]\tvalidation-rmse:8.42921\n",
      "[522]\tvalidation-rmse:8.42910\n",
      "[523]\tvalidation-rmse:8.42855\n",
      "[524]\tvalidation-rmse:8.42774\n",
      "[525]\tvalidation-rmse:8.42740\n",
      "[526]\tvalidation-rmse:8.42739\n",
      "[527]\tvalidation-rmse:8.42674\n",
      "[528]\tvalidation-rmse:8.42610\n",
      "[529]\tvalidation-rmse:8.42275\n",
      "[530]\tvalidation-rmse:8.42213\n",
      "[531]\tvalidation-rmse:8.42108\n",
      "[532]\tvalidation-rmse:8.42065\n",
      "[533]\tvalidation-rmse:8.42013\n",
      "[534]\tvalidation-rmse:8.41973\n",
      "[535]\tvalidation-rmse:8.41971\n",
      "[536]\tvalidation-rmse:8.41921\n",
      "[537]\tvalidation-rmse:8.41857\n",
      "[538]\tvalidation-rmse:8.41836\n",
      "[539]\tvalidation-rmse:8.41819\n",
      "[540]\tvalidation-rmse:8.41750\n",
      "[541]\tvalidation-rmse:8.41747\n",
      "[542]\tvalidation-rmse:8.41741\n",
      "[543]\tvalidation-rmse:8.41416\n",
      "[544]\tvalidation-rmse:8.41384\n",
      "[545]\tvalidation-rmse:8.41307\n",
      "[546]\tvalidation-rmse:8.41283\n",
      "[547]\tvalidation-rmse:8.41235\n",
      "[548]\tvalidation-rmse:8.41221\n",
      "[549]\tvalidation-rmse:8.41153\n",
      "[550]\tvalidation-rmse:8.41132\n",
      "[551]\tvalidation-rmse:8.41103\n",
      "[552]\tvalidation-rmse:8.41001\n",
      "[553]\tvalidation-rmse:8.40963\n",
      "[554]\tvalidation-rmse:8.40924\n",
      "[555]\tvalidation-rmse:8.40616\n",
      "[556]\tvalidation-rmse:8.40596\n",
      "[557]\tvalidation-rmse:8.40555\n",
      "[558]\tvalidation-rmse:8.40537\n",
      "[559]\tvalidation-rmse:8.40490\n",
      "[560]\tvalidation-rmse:8.40451\n",
      "[561]\tvalidation-rmse:8.40449\n",
      "[562]\tvalidation-rmse:8.40152\n",
      "[563]\tvalidation-rmse:8.40129\n",
      "[564]\tvalidation-rmse:8.40057\n",
      "[565]\tvalidation-rmse:8.40017\n",
      "[566]\tvalidation-rmse:8.40008\n",
      "[567]\tvalidation-rmse:8.39972\n",
      "[568]\tvalidation-rmse:8.39905\n",
      "[569]\tvalidation-rmse:8.39902\n",
      "[570]\tvalidation-rmse:8.39843\n",
      "[571]\tvalidation-rmse:8.39744\n",
      "[572]\tvalidation-rmse:8.39709\n",
      "[573]\tvalidation-rmse:8.39664\n",
      "[574]\tvalidation-rmse:8.39625\n",
      "[575]\tvalidation-rmse:8.39609\n",
      "[576]\tvalidation-rmse:8.39552\n",
      "[577]\tvalidation-rmse:8.39551\n",
      "[578]\tvalidation-rmse:8.39549\n",
      "[579]\tvalidation-rmse:8.39547\n",
      "[580]\tvalidation-rmse:8.39541\n",
      "[581]\tvalidation-rmse:8.39504\n",
      "[582]\tvalidation-rmse:8.39503\n",
      "[583]\tvalidation-rmse:8.39471\n",
      "[584]\tvalidation-rmse:8.39416\n",
      "[585]\tvalidation-rmse:8.39391\n",
      "[586]\tvalidation-rmse:8.39372\n",
      "[587]\tvalidation-rmse:8.39329\n",
      "[588]\tvalidation-rmse:8.39328\n",
      "[589]\tvalidation-rmse:8.39259\n",
      "[590]\tvalidation-rmse:8.39232\n",
      "[591]\tvalidation-rmse:8.39197\n",
      "[592]\tvalidation-rmse:8.39132\n",
      "[593]\tvalidation-rmse:8.39091\n",
      "[594]\tvalidation-rmse:8.39036\n",
      "[595]\tvalidation-rmse:8.39033\n",
      "[596]\tvalidation-rmse:8.39000\n",
      "[597]\tvalidation-rmse:8.38970\n",
      "[598]\tvalidation-rmse:8.38944\n",
      "[599]\tvalidation-rmse:8.38944\n",
      "[600]\tvalidation-rmse:8.38883\n",
      "[601]\tvalidation-rmse:8.38863\n",
      "[602]\tvalidation-rmse:8.38862\n",
      "[603]\tvalidation-rmse:8.38768\n",
      "[604]\tvalidation-rmse:8.38768\n",
      "[605]\tvalidation-rmse:8.38766\n",
      "[606]\tvalidation-rmse:8.38737\n",
      "[607]\tvalidation-rmse:8.38469\n",
      "[608]\tvalidation-rmse:8.38432\n",
      "[609]\tvalidation-rmse:8.38400\n",
      "[610]\tvalidation-rmse:8.38398\n",
      "[611]\tvalidation-rmse:8.38365\n",
      "[612]\tvalidation-rmse:8.38324\n",
      "[613]\tvalidation-rmse:8.38325\n",
      "[614]\tvalidation-rmse:8.38046\n",
      "[615]\tvalidation-rmse:8.38038\n",
      "[616]\tvalidation-rmse:8.38010\n",
      "[617]\tvalidation-rmse:8.37973\n",
      "[618]\tvalidation-rmse:8.37936\n",
      "[619]\tvalidation-rmse:8.37933\n",
      "[620]\tvalidation-rmse:8.37931\n",
      "[621]\tvalidation-rmse:8.37900\n",
      "[622]\tvalidation-rmse:8.37887\n",
      "[623]\tvalidation-rmse:8.37861\n",
      "[624]\tvalidation-rmse:8.37862\n",
      "[625]\tvalidation-rmse:8.37839\n",
      "[626]\tvalidation-rmse:8.37808\n",
      "[627]\tvalidation-rmse:8.37783\n",
      "[628]\tvalidation-rmse:8.37783\n",
      "[629]\tvalidation-rmse:8.37767\n",
      "[630]\tvalidation-rmse:8.37731\n",
      "[631]\tvalidation-rmse:8.37669\n",
      "[632]\tvalidation-rmse:8.37671\n",
      "[633]\tvalidation-rmse:8.37647\n",
      "[634]\tvalidation-rmse:8.37594\n",
      "[635]\tvalidation-rmse:8.37560\n",
      "[636]\tvalidation-rmse:8.37501\n",
      "[637]\tvalidation-rmse:8.37471\n",
      "[638]\tvalidation-rmse:8.37441\n",
      "[639]\tvalidation-rmse:8.37381\n",
      "[640]\tvalidation-rmse:8.37352\n",
      "[641]\tvalidation-rmse:8.37295\n",
      "[642]\tvalidation-rmse:8.37293\n",
      "[643]\tvalidation-rmse:8.37242\n",
      "[644]\tvalidation-rmse:8.37219\n",
      "[645]\tvalidation-rmse:8.37126\n",
      "[646]\tvalidation-rmse:8.37124\n",
      "[647]\tvalidation-rmse:8.37125\n",
      "[648]\tvalidation-rmse:8.36861\n",
      "[649]\tvalidation-rmse:8.36841\n",
      "[650]\tvalidation-rmse:8.36824\n",
      "[651]\tvalidation-rmse:8.36735\n",
      "[652]\tvalidation-rmse:8.36679\n",
      "[653]\tvalidation-rmse:8.36650\n",
      "[654]\tvalidation-rmse:8.36391\n",
      "[655]\tvalidation-rmse:8.36374\n",
      "[656]\tvalidation-rmse:8.36351\n",
      "[657]\tvalidation-rmse:8.36353\n",
      "[658]\tvalidation-rmse:8.36268\n",
      "[659]\tvalidation-rmse:8.36247\n",
      "[660]\tvalidation-rmse:8.36213\n",
      "[661]\tvalidation-rmse:8.36189\n",
      "[662]\tvalidation-rmse:8.36159\n",
      "[663]\tvalidation-rmse:8.36071\n",
      "[664]\tvalidation-rmse:8.36053\n",
      "[665]\tvalidation-rmse:8.36055\n",
      "[666]\tvalidation-rmse:8.36058\n",
      "[667]\tvalidation-rmse:8.36044\n",
      "[668]\tvalidation-rmse:8.35990\n",
      "[669]\tvalidation-rmse:8.35988\n",
      "[670]\tvalidation-rmse:8.35980\n",
      "[671]\tvalidation-rmse:8.35934\n",
      "[672]\tvalidation-rmse:8.35687\n",
      "[673]\tvalidation-rmse:8.35659\n",
      "[674]\tvalidation-rmse:8.35574\n",
      "[675]\tvalidation-rmse:8.35538\n",
      "[676]\tvalidation-rmse:8.35518\n",
      "[677]\tvalidation-rmse:8.35484\n",
      "[678]\tvalidation-rmse:8.35432\n",
      "[679]\tvalidation-rmse:8.35194\n",
      "[680]\tvalidation-rmse:8.35165\n",
      "[681]\tvalidation-rmse:8.35108\n",
      "[682]\tvalidation-rmse:8.35111\n",
      "[683]\tvalidation-rmse:8.35092\n",
      "[684]\tvalidation-rmse:8.35090\n",
      "[685]\tvalidation-rmse:8.34860\n",
      "[686]\tvalidation-rmse:8.34810\n",
      "[687]\tvalidation-rmse:8.34791\n",
      "[688]\tvalidation-rmse:8.34776\n",
      "[689]\tvalidation-rmse:8.34745\n",
      "[690]\tvalidation-rmse:8.34664\n",
      "[691]\tvalidation-rmse:8.34667\n",
      "[692]\tvalidation-rmse:8.34649\n",
      "[693]\tvalidation-rmse:8.34622\n",
      "[694]\tvalidation-rmse:8.34593\n",
      "[695]\tvalidation-rmse:8.34592\n",
      "[696]\tvalidation-rmse:8.34562\n",
      "[697]\tvalidation-rmse:8.34547\n",
      "[698]\tvalidation-rmse:8.34521\n",
      "[699]\tvalidation-rmse:8.34493\n",
      "[700]\tvalidation-rmse:8.34494\n",
      "[701]\tvalidation-rmse:8.34495\n",
      "[702]\tvalidation-rmse:8.34487\n",
      "[703]\tvalidation-rmse:8.34438\n",
      "[704]\tvalidation-rmse:8.34405\n",
      "[705]\tvalidation-rmse:8.34392\n",
      "[706]\tvalidation-rmse:8.34361\n",
      "[707]\tvalidation-rmse:8.34312\n",
      "[708]\tvalidation-rmse:8.34295\n",
      "[709]\tvalidation-rmse:8.34264\n",
      "[710]\tvalidation-rmse:8.34248\n",
      "[711]\tvalidation-rmse:8.34251\n",
      "[712]\tvalidation-rmse:8.34246\n",
      "[713]\tvalidation-rmse:8.34198\n",
      "[714]\tvalidation-rmse:8.34116\n",
      "[715]\tvalidation-rmse:8.34039\n",
      "[716]\tvalidation-rmse:8.34013\n",
      "[717]\tvalidation-rmse:8.33967\n",
      "[718]\tvalidation-rmse:8.33938\n",
      "[719]\tvalidation-rmse:8.33913\n",
      "[720]\tvalidation-rmse:8.33884\n",
      "[721]\tvalidation-rmse:8.33830\n",
      "[722]\tvalidation-rmse:8.33813\n",
      "[723]\tvalidation-rmse:8.33786\n",
      "[724]\tvalidation-rmse:8.33784\n",
      "[725]\tvalidation-rmse:8.33769\n",
      "[726]\tvalidation-rmse:8.33772\n",
      "[727]\tvalidation-rmse:8.33752\n",
      "[728]\tvalidation-rmse:8.33722\n",
      "[729]\tvalidation-rmse:8.33644\n",
      "[730]\tvalidation-rmse:8.33629\n",
      "[731]\tvalidation-rmse:8.33583\n",
      "[732]\tvalidation-rmse:8.33564\n",
      "[733]\tvalidation-rmse:8.33563\n",
      "[734]\tvalidation-rmse:8.33566\n",
      "[735]\tvalidation-rmse:8.33565\n",
      "[736]\tvalidation-rmse:8.33490\n",
      "[737]\tvalidation-rmse:8.33268\n",
      "[738]\tvalidation-rmse:8.33223\n",
      "[739]\tvalidation-rmse:8.33199\n",
      "[740]\tvalidation-rmse:8.33172\n",
      "[741]\tvalidation-rmse:8.33148\n",
      "[742]\tvalidation-rmse:8.33122\n",
      "[743]\tvalidation-rmse:8.33099\n",
      "[744]\tvalidation-rmse:8.33055\n",
      "[745]\tvalidation-rmse:8.33041\n",
      "[746]\tvalidation-rmse:8.33028\n",
      "[747]\tvalidation-rmse:8.32985\n",
      "[748]\tvalidation-rmse:8.32971\n",
      "[749]\tvalidation-rmse:8.32973\n",
      "[750]\tvalidation-rmse:8.32953\n",
      "[751]\tvalidation-rmse:8.32912\n",
      "[752]\tvalidation-rmse:8.32898\n",
      "[753]\tvalidation-rmse:8.32876\n",
      "[754]\tvalidation-rmse:8.32823\n",
      "[755]\tvalidation-rmse:8.32812\n",
      "[756]\tvalidation-rmse:8.32770\n",
      "[757]\tvalidation-rmse:8.32759\n",
      "[758]\tvalidation-rmse:8.32731\n",
      "[759]\tvalidation-rmse:8.32707\n",
      "[760]\tvalidation-rmse:8.32683\n",
      "[761]\tvalidation-rmse:8.32666\n",
      "[762]\tvalidation-rmse:8.32653\n",
      "[763]\tvalidation-rmse:8.32651\n",
      "[764]\tvalidation-rmse:8.32629\n",
      "[765]\tvalidation-rmse:8.32588\n",
      "[766]\tvalidation-rmse:8.32560\n",
      "[767]\tvalidation-rmse:8.32350\n",
      "[768]\tvalidation-rmse:8.32336\n",
      "[769]\tvalidation-rmse:8.32262\n",
      "[770]\tvalidation-rmse:8.32264\n",
      "[771]\tvalidation-rmse:8.32252\n",
      "[772]\tvalidation-rmse:8.32227\n",
      "[773]\tvalidation-rmse:8.32211\n",
      "[774]\tvalidation-rmse:8.32186\n",
      "[775]\tvalidation-rmse:8.32171\n",
      "[776]\tvalidation-rmse:8.32100\n",
      "[777]\tvalidation-rmse:8.32086\n",
      "[778]\tvalidation-rmse:8.32048\n",
      "[779]\tvalidation-rmse:8.32051\n",
      "[780]\tvalidation-rmse:8.31858\n",
      "[781]\tvalidation-rmse:8.31847\n",
      "[782]\tvalidation-rmse:8.31779\n",
      "[783]\tvalidation-rmse:8.31765\n",
      "[784]\tvalidation-rmse:8.31768\n",
      "[785]\tvalidation-rmse:8.31755\n",
      "[786]\tvalidation-rmse:8.31729\n",
      "[787]\tvalidation-rmse:8.31703\n",
      "[788]\tvalidation-rmse:8.31679\n",
      "[789]\tvalidation-rmse:8.31658\n",
      "[790]\tvalidation-rmse:8.31662\n",
      "[791]\tvalidation-rmse:8.31477\n",
      "[792]\tvalidation-rmse:8.31461\n",
      "[793]\tvalidation-rmse:8.31424\n",
      "[794]\tvalidation-rmse:8.31400\n",
      "[795]\tvalidation-rmse:8.31334\n",
      "[796]\tvalidation-rmse:8.31311\n",
      "[797]\tvalidation-rmse:8.31291\n",
      "[798]\tvalidation-rmse:8.31099\n",
      "[799]\tvalidation-rmse:8.31074\n",
      "[800]\tvalidation-rmse:8.31023\n",
      "[801]\tvalidation-rmse:8.30976\n",
      "[802]\tvalidation-rmse:8.30955\n",
      "[803]\tvalidation-rmse:8.30885\n",
      "[804]\tvalidation-rmse:8.30865\n",
      "[805]\tvalidation-rmse:8.30869\n",
      "[806]\tvalidation-rmse:8.30832\n",
      "[807]\tvalidation-rmse:8.30822\n",
      "[808]\tvalidation-rmse:8.30793\n",
      "[809]\tvalidation-rmse:8.30796\n",
      "[810]\tvalidation-rmse:8.30737\n",
      "[811]\tvalidation-rmse:8.30715\n",
      "[812]\tvalidation-rmse:8.30650\n",
      "[813]\tvalidation-rmse:8.30631\n",
      "[814]\tvalidation-rmse:8.30608\n",
      "[815]\tvalidation-rmse:8.30587\n",
      "[816]\tvalidation-rmse:8.30547\n",
      "[817]\tvalidation-rmse:8.30535\n",
      "[818]\tvalidation-rmse:8.30500\n",
      "[819]\tvalidation-rmse:8.30482\n",
      "[820]\tvalidation-rmse:8.30486\n",
      "[821]\tvalidation-rmse:8.30464\n",
      "[822]\tvalidation-rmse:8.30280\n",
      "[823]\tvalidation-rmse:8.30244\n",
      "[824]\tvalidation-rmse:8.30243\n",
      "[825]\tvalidation-rmse:8.30223\n",
      "[826]\tvalidation-rmse:8.30222\n",
      "[827]\tvalidation-rmse:8.30202\n",
      "[828]\tvalidation-rmse:8.30190\n",
      "[829]\tvalidation-rmse:8.30178\n",
      "[830]\tvalidation-rmse:8.30168\n",
      "[831]\tvalidation-rmse:8.30146\n",
      "[832]\tvalidation-rmse:8.30126\n",
      "[833]\tvalidation-rmse:8.30112\n",
      "[834]\tvalidation-rmse:8.30088\n",
      "[835]\tvalidation-rmse:8.30079\n",
      "[836]\tvalidation-rmse:8.30071\n",
      "[837]\tvalidation-rmse:8.30073\n",
      "[838]\tvalidation-rmse:8.30052\n",
      "[839]\tvalidation-rmse:8.30047\n",
      "[840]\tvalidation-rmse:8.30030\n",
      "[841]\tvalidation-rmse:8.30006\n",
      "[842]\tvalidation-rmse:8.30000\n",
      "[843]\tvalidation-rmse:8.29989\n",
      "[844]\tvalidation-rmse:8.29944\n",
      "[845]\tvalidation-rmse:8.29927\n",
      "[846]\tvalidation-rmse:8.29910\n",
      "[847]\tvalidation-rmse:8.29900\n",
      "[848]\tvalidation-rmse:8.29832\n",
      "[849]\tvalidation-rmse:8.29787\n",
      "[850]\tvalidation-rmse:8.29726\n",
      "[851]\tvalidation-rmse:8.29549\n",
      "[852]\tvalidation-rmse:8.29531\n",
      "[853]\tvalidation-rmse:8.29467\n",
      "[854]\tvalidation-rmse:8.29447\n",
      "[855]\tvalidation-rmse:8.29389\n",
      "[856]\tvalidation-rmse:8.29352\n",
      "[857]\tvalidation-rmse:8.29332\n",
      "[858]\tvalidation-rmse:8.29310\n",
      "[859]\tvalidation-rmse:8.29299\n",
      "[860]\tvalidation-rmse:8.29288\n",
      "[861]\tvalidation-rmse:8.29292\n",
      "[862]\tvalidation-rmse:8.29273\n",
      "[863]\tvalidation-rmse:8.29258\n",
      "[864]\tvalidation-rmse:8.29256\n",
      "[865]\tvalidation-rmse:8.29233\n",
      "[866]\tvalidation-rmse:8.29063\n",
      "[867]\tvalidation-rmse:8.29044\n",
      "[868]\tvalidation-rmse:8.29026\n",
      "[869]\tvalidation-rmse:8.29016\n",
      "[870]\tvalidation-rmse:8.29015\n",
      "[871]\tvalidation-rmse:8.28971\n",
      "[872]\tvalidation-rmse:8.28937\n",
      "[873]\tvalidation-rmse:8.28914\n",
      "[874]\tvalidation-rmse:8.28895\n",
      "[875]\tvalidation-rmse:8.28884\n",
      "[876]\tvalidation-rmse:8.28823\n",
      "[877]\tvalidation-rmse:8.28815\n",
      "[878]\tvalidation-rmse:8.28797\n",
      "[879]\tvalidation-rmse:8.28776\n",
      "[880]\tvalidation-rmse:8.28742\n",
      "[881]\tvalidation-rmse:8.28687\n",
      "[882]\tvalidation-rmse:8.28677\n",
      "[883]\tvalidation-rmse:8.28662\n",
      "[884]\tvalidation-rmse:8.28645\n",
      "[885]\tvalidation-rmse:8.28614\n",
      "[886]\tvalidation-rmse:8.28578\n",
      "[887]\tvalidation-rmse:8.28561\n",
      "[888]\tvalidation-rmse:8.28544\n",
      "[889]\tvalidation-rmse:8.28526\n",
      "[890]\tvalidation-rmse:8.28470\n",
      "[891]\tvalidation-rmse:8.28449\n",
      "[892]\tvalidation-rmse:8.28453\n",
      "[893]\tvalidation-rmse:8.28393\n",
      "[894]\tvalidation-rmse:8.28371\n",
      "[895]\tvalidation-rmse:8.28363\n",
      "[896]\tvalidation-rmse:8.28350\n",
      "[897]\tvalidation-rmse:8.28312\n",
      "[898]\tvalidation-rmse:8.28297\n",
      "[899]\tvalidation-rmse:8.28132\n",
      "[900]\tvalidation-rmse:8.28122\n",
      "[901]\tvalidation-rmse:8.28113\n",
      "[902]\tvalidation-rmse:8.28104\n",
      "[903]\tvalidation-rmse:8.28094\n",
      "[904]\tvalidation-rmse:8.28078\n",
      "[905]\tvalidation-rmse:8.28023\n",
      "[906]\tvalidation-rmse:8.28005\n",
      "[907]\tvalidation-rmse:8.27985\n",
      "[908]\tvalidation-rmse:8.27977\n",
      "[909]\tvalidation-rmse:8.27961\n",
      "[910]\tvalidation-rmse:8.27946\n",
      "[911]\tvalidation-rmse:8.27937\n",
      "[912]\tvalidation-rmse:8.27939\n",
      "[913]\tvalidation-rmse:8.27909\n",
      "[914]\tvalidation-rmse:8.27892\n",
      "[915]\tvalidation-rmse:8.27872\n",
      "[916]\tvalidation-rmse:8.27855\n",
      "[917]\tvalidation-rmse:8.27835\n",
      "[918]\tvalidation-rmse:8.27806\n",
      "[919]\tvalidation-rmse:8.27792\n",
      "[920]\tvalidation-rmse:8.27783\n",
      "[921]\tvalidation-rmse:8.27749\n",
      "[922]\tvalidation-rmse:8.27733\n",
      "[923]\tvalidation-rmse:8.27717\n",
      "[924]\tvalidation-rmse:8.27699\n",
      "[925]\tvalidation-rmse:8.27645\n",
      "[926]\tvalidation-rmse:8.27620\n",
      "[927]\tvalidation-rmse:8.27612\n",
      "[928]\tvalidation-rmse:8.27597\n",
      "[929]\tvalidation-rmse:8.27581\n",
      "[930]\tvalidation-rmse:8.27571\n",
      "[931]\tvalidation-rmse:8.27412\n",
      "[932]\tvalidation-rmse:8.27405\n",
      "[933]\tvalidation-rmse:8.27252\n",
      "[934]\tvalidation-rmse:8.27244\n",
      "[935]\tvalidation-rmse:8.27193\n",
      "[936]\tvalidation-rmse:8.27163\n",
      "[937]\tvalidation-rmse:8.27148\n",
      "[938]\tvalidation-rmse:8.27134\n",
      "[939]\tvalidation-rmse:8.27122\n",
      "[940]\tvalidation-rmse:8.27114\n",
      "[941]\tvalidation-rmse:8.27097\n",
      "[942]\tvalidation-rmse:8.27090\n",
      "[943]\tvalidation-rmse:8.27076\n",
      "[944]\tvalidation-rmse:8.27051\n",
      "[945]\tvalidation-rmse:8.27024\n",
      "[946]\tvalidation-rmse:8.27001\n",
      "[947]\tvalidation-rmse:8.26951\n",
      "[948]\tvalidation-rmse:8.26929\n",
      "[949]\tvalidation-rmse:8.26916\n",
      "[950]\tvalidation-rmse:8.26903\n",
      "[951]\tvalidation-rmse:8.26891\n",
      "[952]\tvalidation-rmse:8.26893\n",
      "[953]\tvalidation-rmse:8.26875\n",
      "[954]\tvalidation-rmse:8.26860\n",
      "[955]\tvalidation-rmse:8.26863\n",
      "[956]\tvalidation-rmse:8.26846\n",
      "[957]\tvalidation-rmse:8.26834\n",
      "[958]\tvalidation-rmse:8.26827\n",
      "[959]\tvalidation-rmse:8.26815\n",
      "[960]\tvalidation-rmse:8.26758\n",
      "[961]\tvalidation-rmse:8.26720\n",
      "[962]\tvalidation-rmse:8.26709\n",
      "[963]\tvalidation-rmse:8.26712\n",
      "[964]\tvalidation-rmse:8.26699\n",
      "[965]\tvalidation-rmse:8.26662\n",
      "[966]\tvalidation-rmse:8.26646\n",
      "[967]\tvalidation-rmse:8.26596\n",
      "[968]\tvalidation-rmse:8.26600\n",
      "[969]\tvalidation-rmse:8.26573\n",
      "[970]\tvalidation-rmse:8.26566\n",
      "[971]\tvalidation-rmse:8.26551\n",
      "[972]\tvalidation-rmse:8.26519\n",
      "[973]\tvalidation-rmse:8.26497\n",
      "[974]\tvalidation-rmse:8.26477\n",
      "[975]\tvalidation-rmse:8.26463\n",
      "[976]\tvalidation-rmse:8.26445\n",
      "[977]\tvalidation-rmse:8.26434\n",
      "[978]\tvalidation-rmse:8.26287\n",
      "[979]\tvalidation-rmse:8.26280\n",
      "[980]\tvalidation-rmse:8.26231\n",
      "[981]\tvalidation-rmse:8.26207\n",
      "[982]\tvalidation-rmse:8.26193\n",
      "[983]\tvalidation-rmse:8.26145\n",
      "[984]\tvalidation-rmse:8.26117\n",
      "[985]\tvalidation-rmse:8.26111\n",
      "[986]\tvalidation-rmse:8.26093\n",
      "[987]\tvalidation-rmse:8.26080\n",
      "[988]\tvalidation-rmse:8.26033\n",
      "[989]\tvalidation-rmse:8.25979\n",
      "[990]\tvalidation-rmse:8.25966\n",
      "[991]\tvalidation-rmse:8.25945\n",
      "[992]\tvalidation-rmse:8.25898\n",
      "[993]\tvalidation-rmse:8.25846\n",
      "[994]\tvalidation-rmse:8.25826\n",
      "[995]\tvalidation-rmse:8.25814\n",
      "[996]\tvalidation-rmse:8.25795\n",
      "[997]\tvalidation-rmse:8.25655\n",
      "[998]\tvalidation-rmse:8.25640\n",
      "[999]\tvalidation-rmse:8.25621\n"
     ]
    },
    {
     "name": "stderr",
     "output_type": "stream",
     "text": [
      "2024/05/25 11:42:14 WARNING mlflow.xgboost: Failed to infer model signature: could not sample data to infer model signature: please ensure that autologging is enabled before constructing the dataset.\n",
      "2024/05/25 11:42:14 WARNING mlflow.utils.autologging_utils: MLflow autologging encountered a warning: \"/home/codespace/.python/current/lib/python3.10/site-packages/xgboost/core.py:160: UserWarning: [11:42:14] WARNING: /workspace/src/c_api/c_api.cc:1240: Saving into deprecated binary model format, please consider using `json` or `ubj`. Model format will default to JSON in XGBoost 2.2 if not specified.\"\n",
      "/home/codespace/.python/current/lib/python3.10/site-packages/sklearn/metrics/_regression.py:492: FutureWarning: 'squared' is deprecated in version 1.4 and will be removed in 1.6. To calculate the root mean squared error, use the function'root_mean_squared_error'.\n",
      "  warnings.warn(\n"
     ]
    }
   ],
   "source": [
    "\n",
    "mlflow.xgboost.autolog()\n",
    "booster=xgb.train(\n",
    "            params=hyperparams,\n",
    "            dtrain=train,\n",
    "            num_boost_round=1000,\n",
    "            early_stopping_rounds=50,\n",
    "            evals=[(valid, \"validation\")])\n",
    "y_pred=booster.predict(valid)\n",
    "rmse = mean_squared_error(y_val, y_pred, squared=False)\n",
    "mlflow.log_metric(\"rmse\", rmse)"
   ]
  },
  {
   "cell_type": "code",
   "execution_count": null,
   "id": "9faaa48b",
   "metadata": {},
   "outputs": [
    {
     "data": {
      "text/plain": [
       "mlflow.pyfunc.loaded_model:\n",
       "  artifact_path: models_mlflow\n",
       "  flavor: mlflow.xgboost\n",
       "  run_id: f057b62d35924722b03678f9001d984e"
      ]
     },
     "execution_count": 77,
     "metadata": {},
     "output_type": "execute_result"
    }
   ],
   "source": [
    "import mlflow\n",
    "logged_model = 'runs:/f057b62d35924722b03678f9001d984e/models_mlflow'\n",
    "\n",
    "# Load model as a PyFuncModel.\n",
    "loaded_model = mlflow.pyfunc.load_model(logged_model)\n",
    "loaded_model"
   ]
  },
  {
   "cell_type": "code",
   "execution_count": null,
   "id": "b9beb848",
   "metadata": {},
   "outputs": [],
   "source": [
    "loaded_model = mlflow.pyfunc.load_model(logged_model)\n",
    "import mlflow.xgboost\n",
    "xgboost_model = mlflow.xgboost.load_model(logged_model)"
   ]
  },
  {
   "cell_type": "code",
   "execution_count": null,
   "id": "ebe5d83c",
   "metadata": {},
   "outputs": [
    {
     "data": {
      "text/plain": [
       "<xgboost.core.Booster at 0x73f1cd82f880>"
      ]
     },
     "execution_count": 88,
     "metadata": {},
     "output_type": "execute_result"
    }
   ],
   "source": [
    "xgboost_model"
   ]
  },
  {
   "cell_type": "code",
   "execution_count": null,
   "id": "6af55413",
   "metadata": {},
   "outputs": [
    {
     "data": {
      "text/plain": [
       "array([12.872271, 26.821747, 12.919162, ..., 12.919162, 13.479717,\n",
       "       12.919162], dtype=float32)"
      ]
     },
     "execution_count": 89,
     "metadata": {},
     "output_type": "execute_result"
    }
   ],
   "source": [
    "xgboost_model.predict(valid)"
   ]
  },
  {
   "cell_type": "code",
   "execution_count": null,
   "id": "fc630412",
   "metadata": {},
   "outputs": [],
   "source": [
    "stop here "
   ]
  },
  {
   "cell_type": "code",
   "execution_count": null,
   "id": "efd3ee8d",
   "metadata": {},
   "outputs": [],
   "source": [
    "# Deep Learning"
   ]
  },
  {
   "cell_type": "code",
   "execution_count": null,
   "id": "7aa07df4",
   "metadata": {},
   "outputs": [],
   "source": [
    "\n",
    "class TaxiTripModel(nn.Module):\n",
    "    def __init__(self):\n",
    "        super(TaxiTripModel, self).__init__()\n",
    "        self.layer1 = nn.Linear(X_train.shape[1], 128)\n",
    "        self.layer2 = nn.Linear(128, 64)\n",
    "        self.layer3 = nn.Linear(64, 32)\n",
    "        self.output = nn.Linear(32, 1)\n",
    "        self.relu = nn.ReLU()\n",
    "\n",
    "    def forward(self, x):\n",
    "        x = self.relu(self.layer1(x))\n",
    "        x = self.relu(self.layer2(x))\n",
    "        x = self.relu(self.layer3(x))\n",
    "        return self.output(x)"
   ]
  },
  {
   "cell_type": "code",
   "execution_count": null,
   "id": "d54a785a",
   "metadata": {},
   "outputs": [],
   "source": [
    "# Convert data to PyTorch tensors and create DataLoaders\n",
    "X_train_tensor = torch.tensor(X_train, dtype=torch.float32)\n",
    "y_train_tensor = torch.tensor(y_train, dtype=torch.float32)\n",
    "X_val_tensor = torch.tensor(X_val, dtype=torch.float32)\n",
    "y_val_tensor = torch.tensor(y_val, dtype=torch.float32)\n",
    "train_data = TensorDataset(X_train_tensor, y_train_tensor)\n",
    "train_loader = DataLoader(train_data, batch_size=64, shuffle=True)\n",
    "val_data = TensorDataset(X_val_tensor, y_val_tensor)\n",
    "val_loader = DataLoader(val_data, batch_size=64, shuffle=False)"
   ]
  },
  {
   "cell_type": "code",
   "execution_count": null,
   "id": "3baa1ee9",
   "metadata": {},
   "outputs": [],
   "source": [
    "# Train the PyTorch model\n",
    "model = TaxiTripModel()\n",
    "optimizer = torch.optim.Adam(model.parameters(), lr=0.001)\n",
    "loss_fn = nn.MSELoss()"
   ]
  },
  {
   "cell_type": "code",
   "execution_count": null,
   "id": "d9f21b79",
   "metadata": {},
   "outputs": [],
   "source": [
    "def train_model(model, train_loader, val_loader, loss_fn, optimizer, num_epochs=10):\n",
    "    for epoch in range(num_epochs):\n",
    "        model.train()\n",
    "        for X_batch, y_batch in train_loader:\n",
    "            preds = model(X_batch)\n",
    "            loss = loss_fn(preds, y_batch.unsqueeze(1))\n",
    "            optimizer.zero_grad()\n",
    "            loss.backward()\n",
    "            optimizer.step()\n",
    "        model.eval()\n",
    "        val_loss = sum(loss_fn(model(X_val), y_val.unsqueeze(1)) for X_val, y_val in val_loader) / len(val_loader)\n",
    "        print(f'Epoch {epoch+1}, Loss: {loss.item()}, Validation Loss: {val_loss.item()}')"
   ]
  },
  {
   "cell_type": "code",
   "execution_count": null,
   "id": "79ebc387",
   "metadata": {},
   "outputs": [],
   "source": [
    "train_model(model, train_loader, val_loader, loss_fn, optimizer, num_epochs=10)\n",
    "\n",
    "# Save the trained PyTorch model and DictVectorizer\n",
    "with open('models/TaxiTripModel.bin', 'wb') as f_out:\n",
    "    pickle.dump((dv, model), f_out)"
   ]
  },
  {
   "cell_type": "markdown",
   "id": "78e58897",
   "metadata": {},
   "source": [
    "## Deploying model"
   ]
  },
  {
   "cell_type": "code",
   "execution_count": null,
   "id": "36176810",
   "metadata": {},
   "outputs": [],
   "source": [
    "from mlflow.tracking import MlflowClient\n",
    "mlflow_tracking_uri=\"sqlite:///mlflow.db\"\n",
    "client= MlflowClient(tracking_uri=mlflow_tracking_uri)"
   ]
  },
  {
   "cell_type": "code",
   "execution_count": null,
   "id": "e0b5f051",
   "metadata": {},
   "outputs": [
    {
     "data": {
      "text/plain": [
       "[<Experiment: artifact_location='/workspaces/mlopsProduction/02-experiment-tracking/mlruns/1', creation_time=1716364782674, experiment_id='1', last_update_time=1716364782674, lifecycle_stage='active', name='nyc-taxi-experiment', tags={}>,\n",
       " <Experiment: artifact_location='mlflow-artifacts:/0', creation_time=1716361841500, experiment_id='0', last_update_time=1716361841500, lifecycle_stage='active', name='Default', tags={}>]"
      ]
     },
     "execution_count": 99,
     "metadata": {},
     "output_type": "execute_result"
    }
   ],
   "source": [
    "import mlflow\n",
    "\n",
    "mlflow.search_experiments ()"
   ]
  },
  {
   "cell_type": "code",
   "execution_count": null,
   "id": "b969830a",
   "metadata": {},
   "outputs": [],
   "source": [
    "from mlflow.entities import ViewType\n",
    "\n",
    "runs = client.search_runs(\n",
    "    experiment_ids='1',\n",
    "    filter_string=\"\",\n",
    "    run_view_type=ViewType.ACTIVE_ONLY,\n",
    "    max_results= 5,\n",
    ")"
   ]
  },
  {
   "cell_type": "code",
   "execution_count": null,
   "id": "8761f67d",
   "metadata": {},
   "outputs": [
    {
     "name": "stdout",
     "output_type": "stream",
     "text": [
      "Run ID is f057b62d35924722b03678f9001d984e, RMSE: 8.9794\n",
      "Run ID is b151d8b09fb54022873cb16b0f9102d0, RMSE: 8.9794\n",
      "Run ID is 800c1181925a4115896d68daddc19086, RMSE: 8.9794\n",
      "Run ID is 972e2ddbbf6b4f4bbf3b912844899036, RMSE: Not available\n",
      "Run ID is 1d050bfba2d84cab915482be291d471f, RMSE: Not available\n"
     ]
    }
   ],
   "source": [
    "for run in runs:\n",
    "    if 'rmse' in run.data.metrics:\n",
    "        print(f\"Run ID is {run.info.run_id}, RMSE: {run.data.metrics['rmse']:.4f}\")\n",
    "    else:\n",
    "        print(f\"Run ID is {run.info.run_id}, RMSE: Not available\")\n"
   ]
  },
  {
   "cell_type": "code",
   "execution_count": null,
   "id": "47d3c7f3",
   "metadata": {},
   "outputs": [],
   "source": [
    "import mlflow"
   ]
  },
  {
   "cell_type": "code",
   "execution_count": null,
   "id": "fcd5a6eb",
   "metadata": {},
   "outputs": [],
   "source": [
    "run_id=\"f057b62d35924722b03678f9001d984e\"\n",
    "model_uri=f\"runs:/{run_id}/model\""
   ]
  },
  {
   "cell_type": "code",
   "execution_count": null,
   "id": "fdc8b2c9",
   "metadata": {},
   "outputs": [
    {
     "data": {
      "text/plain": [
       "'runs:/f057b62d35924722b03678f9001d984e/model'"
      ]
     },
     "execution_count": 117,
     "metadata": {},
     "output_type": "execute_result"
    }
   ],
   "source": [
    "model_uri"
   ]
  },
  {
   "cell_type": "code",
   "execution_count": null,
   "id": "bf36ce73",
   "metadata": {},
   "outputs": [],
   "source": [
    "mlflow.set_tracking_uri(mlflow_tracking_uri)"
   ]
  },
  {
   "cell_type": "code",
   "execution_count": null,
   "id": "25393f42",
   "metadata": {},
   "outputs": [
    {
     "name": "stderr",
     "output_type": "stream",
     "text": [
      "Successfully registered model 'nyc-taxi-experiment'.\n",
      "Created version '1' of model 'nyc-taxi-experiment'.\n"
     ]
    },
    {
     "data": {
      "text/plain": [
       "<ModelVersion: aliases=[], creation_timestamp=1716930879755, current_stage='None', description=None, last_updated_timestamp=1716930879755, name='nyc-taxi-experiment', run_id='f057b62d35924722b03678f9001d984e', run_link=None, source='/workspaces/mlopsProduction/02-experiment-tracking/mlruns/1/f057b62d35924722b03678f9001d984e/artifacts/model', status='READY', status_message=None, tags={}, user_id=None, version=1>"
      ]
     },
     "execution_count": 119,
     "metadata": {},
     "output_type": "execute_result"
    }
   ],
   "source": [
    "mlflow.register_model(model_uri=model_uri, name=\"nyc-taxi-experiment\")"
   ]
  },
  {
   "cell_type": "code",
   "execution_count": null,
   "id": "5cd63cba",
   "metadata": {},
   "outputs": [
    {
     "name": "stderr",
     "output_type": "stream",
     "text": [
      "/tmp/ipykernel_10974/4195685249.py:1: FutureWarning: ``mlflow.tracking.client.MlflowClient.get_latest_versions`` is deprecated since 2.9.0. Model registry stages will be removed in a future major release. To learn more about the deprecation of model registry stages, see our migration guide here: https://mlflow.org/docs/2.13.0/model-registry.html#migrating-from-stages\n",
      "  latest_version =client.get_latest_versions(name= \"nyc-taxi-experiment\")\n"
     ]
    }
   ],
   "source": [
    "latest_version =client.get_latest_versions(name= \"nyc-taxi-experiment\")"
   ]
  },
  {
   "cell_type": "code",
   "execution_count": null,
   "id": "98ab9b05",
   "metadata": {},
   "outputs": [
    {
     "name": "stdout",
     "output_type": "stream",
     "text": [
      "version: 1 , stage : None\n"
     ]
    }
   ],
   "source": [
    "for version in latest_version:\n",
    "    print(f'version: {version.version} , stage : {version.current_stage}')"
   ]
  },
  {
   "cell_type": "code",
   "execution_count": null,
   "id": "6e4dc162",
   "metadata": {},
   "outputs": [
    {
     "name": "stderr",
     "output_type": "stream",
     "text": [
      "/tmp/ipykernel_10974/3101054215.py:1: FutureWarning: ``mlflow.tracking.client.MlflowClient.transition_model_version_stage`` is deprecated since 2.9.0. Model registry stages will be removed in a future major release. To learn more about the deprecation of model registry stages, see our migration guide here: https://mlflow.org/docs/2.13.0/model-registry.html#migrating-from-stages\n",
      "  client.transition_model_version_stage(name=\"nyc-taxi-experiment\",\n"
     ]
    },
    {
     "data": {
      "text/plain": [
       "<ModelVersion: aliases=[], creation_timestamp=1716930879755, current_stage='Staging', description=None, last_updated_timestamp=1716931408409, name='nyc-taxi-experiment', run_id='f057b62d35924722b03678f9001d984e', run_link=None, source='/workspaces/mlopsProduction/02-experiment-tracking/mlruns/1/f057b62d35924722b03678f9001d984e/artifacts/model', status='READY', status_message=None, tags={}, user_id=None, version=1>"
      ]
     },
     "execution_count": 129,
     "metadata": {},
     "output_type": "execute_result"
    }
   ],
   "source": [
    "client.transition_model_version_stage(name=\"nyc-taxi-experiment\",\n",
    " version=1,\n",
    " stage=\"Staging\")"
   ]
  },
  {
   "cell_type": "code",
   "execution_count": null,
   "id": "88a36869",
   "metadata": {},
   "outputs": [],
   "source": [
    "client = mlflow.tracking.MlflowClient()\n"
   ]
  },
  {
   "cell_type": "code",
   "execution_count": null,
   "id": "31cef5cc",
   "metadata": {},
   "outputs": [],
   "source": [
    "client.set_model_version_tag(\n",
    "    name=\"nyc-taxi-experiment\",\n",
    "    version=1,\n",
    "    key=\"validation_status\",\n",
    "    value=\"approved\"\n",
    ")"
   ]
  },
  {
   "cell_type": "code",
   "execution_count": null,
   "id": "ab58ce10",
   "metadata": {},
   "outputs": [
    {
     "ename": "SyntaxError",
     "evalue": "invalid syntax. Maybe you meant '==' or ':=' instead of '='? (3400907645.py, line 3)",
     "output_type": "error",
     "traceback": [
      "\u001b[0;36m  Cell \u001b[0;32mIn[1], line 3\u001b[0;36m\u001b[0m\n\u001b[0;31m    name = model_name,\u001b[0m\n\u001b[0m    ^\u001b[0m\n\u001b[0;31mSyntaxError\u001b[0m\u001b[0;31m:\u001b[0m invalid syntax. Maybe you meant '==' or ':=' instead of '='?\n"
     ]
    }
   ],
   "source": [
    "client.update_registered_model\n",
    "(\n",
    "    name = model_name,\n",
    "    version =4, \n",
    "    description = f\"The model version {version} was\"\n",
    ")"
   ]
  }
 ],
 "metadata": {
  "kernelspec": {
   "display_name": "Python 3",
   "language": "python",
   "name": "python3"
  },
  "language_info": {
   "codemirror_mode": {
    "name": "ipython",
    "version": 3
   },
   "file_extension": ".py",
   "mimetype": "text/x-python",
   "name": "python",
   "nbconvert_exporter": "python",
   "pygments_lexer": "ipython3",
   "version": "3.10.13"
  }
 },
 "nbformat": 4,
 "nbformat_minor": 5
}
